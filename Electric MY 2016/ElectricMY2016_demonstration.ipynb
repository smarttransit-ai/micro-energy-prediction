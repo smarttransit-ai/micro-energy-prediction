{
 "cells": [
  {
   "cell_type": "code",
   "execution_count": 21,
   "id": "sweet-cliff",
   "metadata": {
    "scrolled": true
   },
   "outputs": [],
   "source": [
    "import pandas as pd\n",
    "import keras"
   ]
  },
  {
   "cell_type": "code",
   "execution_count": 2,
   "id": "cubic-praise",
   "metadata": {},
   "outputs": [],
   "source": [
    "#download data and model in your local folder\n",
    "class_folder=''"
   ]
  },
  {
   "cell_type": "code",
   "execution_count": 4,
   "id": "integrated-wisdom",
   "metadata": {},
   "outputs": [
    {
     "name": "stdout",
     "output_type": "stream",
     "text": [
      "WARNING:tensorflow:From C:\\ProgramData\\Anaconda3\\lib\\site-packages\\keras\\backend\\tensorflow_backend.py:422: The name tf.global_variables is deprecated. Please use tf.compat.v1.global_variables instead.\n",
      "\n"
     ]
    }
   ],
   "source": [
    "#load model for this vehicle class\n",
    "model = keras.models.load_model(f'{class_folder}/Electric MY 2016/electric_MY2016.model')"
   ]
  },
  {
   "cell_type": "markdown",
   "id": "ambient-nightlife",
   "metadata": {},
   "source": [
    "# Spring peak hour "
   ]
  },
  {
   "cell_type": "code",
   "execution_count": 5,
   "id": "caroline-summary",
   "metadata": {},
   "outputs": [],
   "source": [
    "#read trajectory data sample\n",
    "spr_peak = pd.read_csv(f'{class_folder}/DrivingProfile/Spring_peak.csv')"
   ]
  },
  {
   "cell_type": "code",
   "execution_count": 6,
   "id": "reverse-spending",
   "metadata": {},
   "outputs": [],
   "source": [
    "#predict \n",
    "pred = model.predict(spr_peak)"
   ]
  },
  {
   "cell_type": "markdown",
   "id": "professional-sullivan",
   "metadata": {},
   "source": [
    "# Spring off peak hour"
   ]
  },
  {
   "cell_type": "code",
   "execution_count": 7,
   "id": "ranging-family",
   "metadata": {},
   "outputs": [],
   "source": [
    "#read trajectory data sample\n",
    "spr_offpeak = pd.read_csv(f'{class_folder}/DrivingProfile/Spring_offpeak.csv')"
   ]
  },
  {
   "cell_type": "code",
   "execution_count": 8,
   "id": "willing-hungarian",
   "metadata": {},
   "outputs": [],
   "source": [
    "#predict \n",
    "pred = model.predict(spr_offpeak)"
   ]
  },
  {
   "cell_type": "markdown",
   "id": "linear-sheet",
   "metadata": {},
   "source": [
    "# Summer peak hour"
   ]
  },
  {
   "cell_type": "code",
   "execution_count": 9,
   "id": "burning-envelope",
   "metadata": {},
   "outputs": [],
   "source": [
    "#read trajectory data sample\n",
    "sum_peak = pd.read_csv(f'{class_folder}/DrivingProfile/Summer_peak.csv')"
   ]
  },
  {
   "cell_type": "code",
   "execution_count": 10,
   "id": "joint-mobile",
   "metadata": {},
   "outputs": [],
   "source": [
    "#predict \n",
    "pred = model.predict(sum_peak)"
   ]
  },
  {
   "cell_type": "markdown",
   "id": "broad-fountain",
   "metadata": {},
   "source": [
    "# Summer off peak hour"
   ]
  },
  {
   "cell_type": "code",
   "execution_count": 11,
   "id": "embedded-mounting",
   "metadata": {},
   "outputs": [],
   "source": [
    "#read trajectory data sample\n",
    "sum_offpeak = pd.read_csv(f'{class_folder}/DrivingProfile/Summer_offpeak.csv')"
   ]
  },
  {
   "cell_type": "code",
   "execution_count": 12,
   "id": "american-thread",
   "metadata": {},
   "outputs": [],
   "source": [
    "#predict \n",
    "pred = model.predict(sum_offpeak)"
   ]
  },
  {
   "cell_type": "markdown",
   "id": "focused-indianapolis",
   "metadata": {},
   "source": [
    "# Fall peak hour"
   ]
  },
  {
   "cell_type": "code",
   "execution_count": 13,
   "id": "promising-explosion",
   "metadata": {},
   "outputs": [],
   "source": [
    "#read trajectory data sample\n",
    "fall_peak = pd.read_csv(f'{class_folder}/DrivingProfile/Fall_peak.csv')"
   ]
  },
  {
   "cell_type": "code",
   "execution_count": 14,
   "id": "headed-coordinate",
   "metadata": {},
   "outputs": [],
   "source": [
    "#predict \n",
    "pred = model.predict(fall_peak)"
   ]
  },
  {
   "cell_type": "markdown",
   "id": "interested-mother",
   "metadata": {},
   "source": [
    "# Fall off peak hour"
   ]
  },
  {
   "cell_type": "code",
   "execution_count": 15,
   "id": "isolated-perry",
   "metadata": {},
   "outputs": [],
   "source": [
    "#read trajectory data sample\n",
    "fall_offpeak = pd.read_csv(f'{class_folder}/DrivingProfile/Fall_offpeak.csv')"
   ]
  },
  {
   "cell_type": "code",
   "execution_count": 16,
   "id": "radical-runner",
   "metadata": {},
   "outputs": [],
   "source": [
    "#predict \n",
    "pred = model.predict(fall_offpeak)"
   ]
  },
  {
   "cell_type": "markdown",
   "id": "separate-astrology",
   "metadata": {},
   "source": [
    "# Winter peak hour"
   ]
  },
  {
   "cell_type": "code",
   "execution_count": 17,
   "id": "apparent-confusion",
   "metadata": {},
   "outputs": [],
   "source": [
    "#read trajectory data sample\n",
    "win_peak = pd.read_csv(f'{class_folder}/DrivingProfile/Winter_peak.csv')"
   ]
  },
  {
   "cell_type": "code",
   "execution_count": 18,
   "id": "serious-governor",
   "metadata": {},
   "outputs": [],
   "source": [
    "#predict \n",
    "pred = model.predict(win_peak)"
   ]
  },
  {
   "cell_type": "markdown",
   "id": "athletic-enclosure",
   "metadata": {},
   "source": [
    "# Winter off peak hour"
   ]
  },
  {
   "cell_type": "code",
   "execution_count": 19,
   "id": "joint-advocate",
   "metadata": {},
   "outputs": [],
   "source": [
    "#read trajectory data sample\n",
    "win_offpeak = pd.read_csv(f'{class_folder}/DrivingProfile/Winter_offpeak.csv')"
   ]
  },
  {
   "cell_type": "code",
   "execution_count": 20,
   "id": "french-scholarship",
   "metadata": {},
   "outputs": [],
   "source": [
    "#predict \n",
    "pred = model.predict(win_offpeak)"
   ]
  },
  {
   "cell_type": "code",
   "execution_count": null,
   "id": "animal-myrtle",
   "metadata": {},
   "outputs": [],
   "source": []
  }
 ],
 "metadata": {
  "kernelspec": {
   "display_name": "Python 3",
   "language": "python",
   "name": "python3"
  },
  "language_info": {
   "codemirror_mode": {
    "name": "ipython",
    "version": 3
   },
   "file_extension": ".py",
   "mimetype": "text/x-python",
   "name": "python",
   "nbconvert_exporter": "python",
   "pygments_lexer": "ipython3",
   "version": "3.7.3"
  }
 },
 "nbformat": 4,
 "nbformat_minor": 5
}
