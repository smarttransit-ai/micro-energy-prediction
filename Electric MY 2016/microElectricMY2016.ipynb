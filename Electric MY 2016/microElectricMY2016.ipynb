{
 "cells": [
  {
   "cell_type": "code",
   "execution_count": 2,
   "id": "pacific-framing",
   "metadata": {},
   "outputs": [],
   "source": [
    "import scipy\n",
    "import statsmodels\n",
    "import sklearn\n",
    "import theano\n",
    "import tensorflow\n",
    "import keras\n",
    "import glob\n",
    "import os\n",
    "import numpy as np\n",
    "import pandas as pd\n",
    "import math\n",
    "from keras.models import Sequential\n",
    "from keras.layers import Dense\n",
    "from sklearn.model_selection import KFold\n",
    "from sklearn.model_selection import train_test_split\n",
    "from sklearn.metrics import mean_absolute_error\n",
    "from sklearn.metrics import mean_squared_error\n",
    "import matplotlib.pyplot as plt\n",
    "import requests\n",
    "from datetime import datetime\n",
    "from datetime import timedelta\n",
    "import time\n",
    "from timeit import default_timer as timer\n",
    "import statistics\n",
    "from dask.distributed import Client\n",
    "from dask import dataframe as dd"
   ]
  },
  {
   "cell_type": "markdown",
   "id": "binding-annual",
   "metadata": {},
   "source": [
    "# Data preparation"
   ]
  },
  {
      "cell_type": "code",
      "metadata": {
        "id": "EqmT-wkubEk3"
      },
      "source": [
        "#it is required that you move the raw data from the dropbox location to the Data_Folder\n",
        "Data_Folder=''"
      ],
      "id": "EqmT-wkubEk3",
      "execution_count": null,
      "outputs": []
    },
  {
   "cell_type": "code",
   "execution_count": 3,
   "id": "suffering-short",
   "metadata": {},
   "outputs": [],
   "source": [
    "#read weather data\n",
    "weather1 = pd.read_csv(f'{Data_Folder}/darksky_chattanooga.csv', index_col=False)\n",
    "weather1['period'] = (weather1['time']/300).apply(np.floor)\n",
    "weather1 = weather1[['humidity','temperature','period']]"
   ]
  },
  {
   "cell_type": "code",
   "execution_count": 4,
   "id": "tired-atlantic",
   "metadata": {},
   "outputs": [],
   "source": [
    "weather2 = pd.read_pickle(f'{Data_Folder}/weatherbit_1_hr_01-01-2017_06-06-2020.pk')\n",
    "weather2 = weather2.loc[weather2['station_id']=='723240-13882']\n",
    "weather2['period1']=(weather2['ts']/3600).apply(np.floor)\n",
    "weather2 = weather2[['rh','temp','period1']]\n",
    "weather2['rh'] = weather2['rh']/100 #convert % to (0-1)\n",
    "weather2['temp'] = 32+weather2['temp']*9/5 #convert celsius to fahrenheit"
   ]
  },
  {
   "cell_type": "code",
   "execution_count": 5,
   "id": "assigned-underground",
   "metadata": {},
   "outputs": [],
   "source": [
    "client = Client(n_workers=1, threads_per_worker=4, processes=False, memory_limit='10GB') #note the parameters"
   ]
  },
  {
   "cell_type": "code",
   "execution_count": 6,
   "id": "fitted-elephant",
   "metadata": {},
   "outputs": [],
   "source": [
    "vehdata = dd.read_parquet(f'{Data_Folder}/bydelevationfinal',engine=\"pyarrow\")"
   ]
  },
  {
   "cell_type": "code",
   "execution_count": 7,
   "id": "blind-aaron",
   "metadata": {},
   "outputs": [
    {
     "data": {
      "text/plain": [
       "Index(['unixtimestamp', 'isotime', 'timeuseastern', 'name', 'acceleration',\n",
       "       'distancedriven', 'powerkw', 'speedmileperhour', 'rpm', 'altitude',\n",
       "       'latitude', 'longitude', 'speed', 'elevation', 'hour', 'minute',\n",
       "       'month', 'year'],\n",
       "      dtype='object')"
      ]
     },
     "execution_count": 7,
     "metadata": {},
     "output_type": "execute_result"
    }
   ],
   "source": [
    "veh = vehdata.compute()\n",
    "veh.columns"
   ]
  },
  {
   "cell_type": "code",
   "execution_count": 8,
   "id": "worldwide-punishment",
   "metadata": {},
   "outputs": [],
   "source": [
    "veh['period']=(veh['unixtimestamp']/300000).apply(np.floor)\n",
    "veh['period1']=(veh['unixtimestamp']/3600000).apply(np.floor)"
   ]
  },
  {
   "cell_type": "code",
   "execution_count": 9,
   "id": "passive-scottish",
   "metadata": {},
   "outputs": [],
   "source": [
    "#merge data with weather1\n",
    "dt = pd.merge(veh,weather1,on=['period'],how='left')\n",
    "#merge data with weather2\n",
    "df = pd.merge(dt,weather2,on=['period1'],how='left')"
   ]
  },
  {
   "cell_type": "code",
   "execution_count": 10,
   "id": "oriented-attitude",
   "metadata": {},
   "outputs": [
    {
     "name": "stdout",
     "output_type": "stream",
     "text": [
      "5172367\n"
     ]
    },
    {
     "data": {
      "text/plain": [
       "Index(['unixtimestamp', 'isotime', 'timeuseastern', 'name', 'acceleration',\n",
       "       'distancedriven', 'powerkw', 'speedmileperhour', 'rpm', 'altitude',\n",
       "       'latitude', 'longitude', 'speed', 'elevation', 'hour', 'minute',\n",
       "       'month', 'year', 'period', 'period1', 'humidity', 'temperature', 'rh',\n",
       "       'temp'],\n",
       "      dtype='object')"
      ]
     },
     "execution_count": 10,
     "metadata": {},
     "output_type": "execute_result"
    }
   ],
   "source": [
    "#fill the missing humidity and temperature from weather1 with that of weather2\n",
    "df['humidity'] = df['humidity'].fillna(df['rh'])\n",
    "df['temperature'] = df['temperature'].fillna(df['temp'])\n",
    "df = df.dropna(subset=['speedmileperhour'])\n",
    "df = df.sort_values(['unixtimestamp'])\n",
    "print(len(df))\n",
    "df.columns"
   ]
  },
  {
   "cell_type": "code",
   "execution_count": 11,
   "id": "warming-gauge",
   "metadata": {},
   "outputs": [
    {
     "name": "stdout",
     "output_type": "stream",
     "text": [
      "5172357\n"
     ]
    }
   ],
   "source": [
    "#process data\n",
    "df['elevdiff']=df['elevation'].diff() #ft\n",
    "df['elevdiff']=df['elevdiff']*0.000189394 #convert ft to mile\n",
    "df['distdiff']=df['distancedriven'].diff()\n",
    "df['distance']=df['distdiff']*1.60934 #convert mile to km\n",
    "df['roadGrade']=df['elevdiff']/df['distdiff']\n",
    "df['roadGrade']=df['roadGrade'].replace(np.inf, 0.1)\n",
    "df['roadGrade']=df['roadGrade'].replace(-np.inf, -0.1)\n",
    "df['speed'] = df['speedmileperhour']*1.60934 #convert to km/h\n",
    "df['energy'] = df['powerkw']/3600 #kWh\n",
    "Speed_fts = df['speedmileperhour']*1.46667 #convert to ft/s\n",
    "df['Cal_Acc'] = Speed_fts.diff() #unit: ft/s^2\n",
    "df['acceleration'] = df['acceleration'].fillna(df['Cal_Acc']) \n",
    "df=df[['speed','acceleration','temperature','humidity','roadGrade','energy']]\n",
    "#interpolate if raw data is unfilled\n",
    "df=df.interpolate(method='linear', limit_direction='forward')\n",
    "df=df.dropna()\n",
    "print(len(df))"
   ]
  },
  {
   "cell_type": "code",
   "execution_count": 12,
   "id": "expected-vienna",
   "metadata": {},
   "outputs": [
    {
     "data": {
      "text/html": [
       "<div>\n",
       "<style scoped>\n",
       "    .dataframe tbody tr th:only-of-type {\n",
       "        vertical-align: middle;\n",
       "    }\n",
       "\n",
       "    .dataframe tbody tr th {\n",
       "        vertical-align: top;\n",
       "    }\n",
       "\n",
       "    .dataframe thead th {\n",
       "        text-align: right;\n",
       "    }\n",
       "</style>\n",
       "<table border=\"1\" class=\"dataframe\">\n",
       "  <thead>\n",
       "    <tr style=\"text-align: right;\">\n",
       "      <th></th>\n",
       "      <th>speed</th>\n",
       "      <th>acceleration</th>\n",
       "      <th>temperature</th>\n",
       "      <th>humidity</th>\n",
       "      <th>roadGrade</th>\n",
       "      <th>energy</th>\n",
       "    </tr>\n",
       "  </thead>\n",
       "  <tbody>\n",
       "    <tr>\n",
       "      <th>1792740</th>\n",
       "      <td>2.00041</td>\n",
       "      <td>0.0</td>\n",
       "      <td>37.94</td>\n",
       "      <td>51.0</td>\n",
       "      <td>0.100</td>\n",
       "      <td>0.004326</td>\n",
       "    </tr>\n",
       "    <tr>\n",
       "      <th>1792741</th>\n",
       "      <td>2.00041</td>\n",
       "      <td>0.0</td>\n",
       "      <td>37.94</td>\n",
       "      <td>51.0</td>\n",
       "      <td>0.075</td>\n",
       "      <td>0.002798</td>\n",
       "    </tr>\n",
       "    <tr>\n",
       "      <th>1792742</th>\n",
       "      <td>2.99981</td>\n",
       "      <td>0.910802</td>\n",
       "      <td>37.94</td>\n",
       "      <td>51.0</td>\n",
       "      <td>0.050</td>\n",
       "      <td>0.004969</td>\n",
       "    </tr>\n",
       "    <tr>\n",
       "      <th>1792743</th>\n",
       "      <td>2.99981</td>\n",
       "      <td>0.0</td>\n",
       "      <td>37.94</td>\n",
       "      <td>51.0</td>\n",
       "      <td>0.025</td>\n",
       "      <td>0.003541</td>\n",
       "    </tr>\n",
       "    <tr>\n",
       "      <th>1792744</th>\n",
       "      <td>3.99921</td>\n",
       "      <td>0.910802</td>\n",
       "      <td>37.94</td>\n",
       "      <td>51.0</td>\n",
       "      <td>0.000</td>\n",
       "      <td>0.005668</td>\n",
       "    </tr>\n",
       "  </tbody>\n",
       "</table>\n",
       "</div>"
      ],
      "text/plain": [
       "           speed acceleration  temperature  humidity  roadGrade    energy\n",
       "1792740  2.00041          0.0        37.94      51.0      0.100  0.004326\n",
       "1792741  2.00041          0.0        37.94      51.0      0.075  0.002798\n",
       "1792742  2.99981     0.910802        37.94      51.0      0.050  0.004969\n",
       "1792743  2.99981          0.0        37.94      51.0      0.025  0.003541\n",
       "1792744  3.99921     0.910802        37.94      51.0      0.000  0.005668"
      ]
     },
     "execution_count": 12,
     "metadata": {},
     "output_type": "execute_result"
    }
   ],
   "source": [
    "df.head()"
   ]
  },
  {
   "cell_type": "code",
   "execution_count": 13,
   "id": "tested-portugal",
   "metadata": {},
   "outputs": [],
   "source": [
    "#leave out the final test datasets\n",
    "final_train, final_test = train_test_split(df,random_state=6,test_size=0.1)\n",
    "#spilt the remaining dataset\n",
    "train, test = train_test_split(final_train,random_state=6,test_size=0.3)"
   ]
  },
  {
   "cell_type": "code",
   "execution_count": 15,
   "id": "separated-contamination",
   "metadata": {},
   "outputs": [],
   "source": [
    "Y_train = train['energy'] #unit: kWh\n",
    "X_train = train[['speed','acceleration','temperature','humidity','roadGrade']]\n",
    "Y_test = test['energy']\n",
    "X_test = test[['speed','acceleration','temperature','humidity','roadGrade']]"
   ]
  },
  {
   "cell_type": "code",
   "execution_count": 16,
   "id": "going-terror",
   "metadata": {},
   "outputs": [
    {
     "name": "stdout",
     "output_type": "stream",
     "text": [
      "3258584\n"
     ]
    }
   ],
   "source": [
    "print(len(train))"
   ]
  },
  {
   "cell_type": "markdown",
   "id": "instrumental-evidence",
   "metadata": {},
   "source": [
    "# Model selection based on k-fold cross validation"
   ]
  },
  {
   "cell_type": "code",
   "execution_count": 17,
   "id": "resistant-gross",
   "metadata": {},
   "outputs": [],
   "source": [
    "inputs = np.concatenate((X_train, X_test), axis=0)\n",
    "targets = np.concatenate((Y_train, Y_test), axis=0)"
   ]
  },
  {
   "cell_type": "code",
   "execution_count": 18,
   "id": "italic-force",
   "metadata": {},
   "outputs": [],
   "source": [
    "dim = df.shape[1]-1\n",
    "N_upper = dim*2+1 #the upper limit for the number of neurons in a hidden layer\n",
    "actlist = ['relu','sigmoid','tanh']"
   ]
  },
  {
   "cell_type": "code",
   "execution_count": 19,
   "id": "cheap-constant",
   "metadata": {},
   "outputs": [
    {
     "name": "stdout",
     "output_type": "stream",
     "text": [
      "-------------------------------------------------------\n",
      "WARNING:tensorflow:From C:\\ProgramData\\Anaconda3\\lib\\site-packages\\keras\\backend\\tensorflow_backend.py:422: The name tf.global_variables is deprecated. Please use tf.compat.v1.global_variables instead.\n",
      "\n",
      "> neurons=5, act_fun1=relu, act_fun2=relu: score = 0.007(0.000)\n",
      "> neurons=5, act_fun1=relu, act_fun2=sigmoid: score = 0.007(0.000)\n",
      "> neurons=5, act_fun1=relu, act_fun2=tanh: score = 0.007(0.000)\n",
      "> neurons=5, act_fun1=sigmoid, act_fun2=relu: score = 0.007(0.000)\n",
      "> neurons=5, act_fun1=sigmoid, act_fun2=sigmoid: score = 0.007(0.000)\n",
      "> neurons=5, act_fun1=sigmoid, act_fun2=tanh: score = 0.007(0.000)\n",
      "> neurons=5, act_fun1=tanh, act_fun2=relu: score = 0.007(0.000)\n",
      "> neurons=5, act_fun1=tanh, act_fun2=sigmoid: score = 0.007(0.000)\n",
      "> neurons=5, act_fun1=tanh, act_fun2=tanh: score = 0.007(0.000)\n",
      "-------------------------------------------------------\n",
      "> neurons=6, act_fun1=relu, act_fun2=relu: score = 0.007(0.000)\n",
      "> neurons=6, act_fun1=relu, act_fun2=sigmoid: score = 0.007(0.000)\n",
      "> neurons=6, act_fun1=relu, act_fun2=tanh: score = 0.007(0.000)\n",
      "> neurons=6, act_fun1=sigmoid, act_fun2=relu: score = 0.007(0.000)\n",
      "> neurons=6, act_fun1=sigmoid, act_fun2=sigmoid: score = 0.007(0.000)\n",
      "> neurons=6, act_fun1=sigmoid, act_fun2=tanh: score = 0.007(0.000)\n",
      "> neurons=6, act_fun1=tanh, act_fun2=relu: score = 0.007(0.000)\n",
      "> neurons=6, act_fun1=tanh, act_fun2=sigmoid: score = 0.007(0.000)\n",
      "> neurons=6, act_fun1=tanh, act_fun2=tanh: score = 0.007(0.000)\n",
      "-------------------------------------------------------\n",
      "> neurons=7, act_fun1=relu, act_fun2=relu: score = 0.007(0.000)\n",
      "> neurons=7, act_fun1=relu, act_fun2=sigmoid: score = 0.007(0.000)\n",
      "> neurons=7, act_fun1=relu, act_fun2=tanh: score = 0.007(0.000)\n",
      "> neurons=7, act_fun1=sigmoid, act_fun2=relu: score = 0.007(0.000)\n",
      "> neurons=7, act_fun1=sigmoid, act_fun2=sigmoid: score = 0.007(0.000)\n",
      "> neurons=7, act_fun1=sigmoid, act_fun2=tanh: score = 0.007(0.000)\n",
      "> neurons=7, act_fun1=tanh, act_fun2=relu: score = 0.007(0.000)\n",
      "> neurons=7, act_fun1=tanh, act_fun2=sigmoid: score = 0.007(0.000)\n",
      "> neurons=7, act_fun1=tanh, act_fun2=tanh: score = 0.007(0.000)\n",
      "-------------------------------------------------------\n",
      "> neurons=8, act_fun1=relu, act_fun2=relu: score = 0.007(0.000)\n",
      "> neurons=8, act_fun1=relu, act_fun2=sigmoid: score = 0.007(0.000)\n",
      "> neurons=8, act_fun1=relu, act_fun2=tanh: score = 0.007(0.000)\n",
      "> neurons=8, act_fun1=sigmoid, act_fun2=relu: score = 0.007(0.000)\n",
      "> neurons=8, act_fun1=sigmoid, act_fun2=sigmoid: score = 0.007(0.000)\n",
      "> neurons=8, act_fun1=sigmoid, act_fun2=tanh: score = 0.007(0.000)\n",
      "> neurons=8, act_fun1=tanh, act_fun2=relu: score = 0.007(0.000)\n",
      "> neurons=8, act_fun1=tanh, act_fun2=sigmoid: score = 0.007(0.000)\n",
      "> neurons=8, act_fun1=tanh, act_fun2=tanh: score = 0.007(0.000)\n",
      "-------------------------------------------------------\n",
      "> neurons=9, act_fun1=relu, act_fun2=relu: score = 0.007(0.000)\n",
      "> neurons=9, act_fun1=relu, act_fun2=sigmoid: score = 0.007(0.000)\n",
      "> neurons=9, act_fun1=relu, act_fun2=tanh: score = 0.007(0.000)\n",
      "> neurons=9, act_fun1=sigmoid, act_fun2=relu: score = 0.007(0.000)\n",
      "> neurons=9, act_fun1=sigmoid, act_fun2=sigmoid: score = 0.007(0.000)\n",
      "> neurons=9, act_fun1=sigmoid, act_fun2=tanh: score = 0.007(0.000)\n",
      "> neurons=9, act_fun1=tanh, act_fun2=relu: score = 0.007(0.000)\n",
      "> neurons=9, act_fun1=tanh, act_fun2=sigmoid: score = 0.007(0.000)\n",
      "> neurons=9, act_fun1=tanh, act_fun2=tanh: score = 0.007(0.000)\n",
      "-------------------------------------------------------\n",
      "> neurons=10, act_fun1=relu, act_fun2=relu: score = 0.007(0.000)\n",
      "> neurons=10, act_fun1=relu, act_fun2=sigmoid: score = 0.007(0.000)\n",
      "> neurons=10, act_fun1=relu, act_fun2=tanh: score = 0.007(0.000)\n",
      "> neurons=10, act_fun1=sigmoid, act_fun2=relu: score = 0.007(0.000)\n",
      "> neurons=10, act_fun1=sigmoid, act_fun2=sigmoid: score = 0.007(0.000)\n",
      "> neurons=10, act_fun1=sigmoid, act_fun2=tanh: score = 0.007(0.000)\n",
      "> neurons=10, act_fun1=tanh, act_fun2=relu: score = 0.007(0.000)\n",
      "> neurons=10, act_fun1=tanh, act_fun2=sigmoid: score = 0.007(0.000)\n",
      "> neurons=10, act_fun1=tanh, act_fun2=tanh: score = 0.007(0.000)\n",
      "-------------------------------------------------------\n",
      "> neurons=11, act_fun1=relu, act_fun2=relu: score = 0.007(0.000)\n",
      "> neurons=11, act_fun1=relu, act_fun2=sigmoid: score = 0.007(0.000)\n",
      "> neurons=11, act_fun1=relu, act_fun2=tanh: score = 0.007(0.000)\n",
      "> neurons=11, act_fun1=sigmoid, act_fun2=relu: score = 0.007(0.000)\n",
      "> neurons=11, act_fun1=sigmoid, act_fun2=sigmoid: score = 0.007(0.000)\n",
      "> neurons=11, act_fun1=sigmoid, act_fun2=tanh: score = 0.007(0.000)\n",
      "> neurons=11, act_fun1=tanh, act_fun2=relu: score = 0.007(0.000)\n",
      "> neurons=11, act_fun1=tanh, act_fun2=sigmoid: score = 0.007(0.000)\n",
      "> neurons=11, act_fun1=tanh, act_fun2=tanh: score = 0.007(0.000)\n"
     ]
    }
   ],
   "source": [
    "perform = {}\n",
    "num_neurons = dim\n",
    "while num_neurons <= N_upper:\n",
    "    print('-------------------------------------------------------')\n",
    "    for act_fun1 in actlist:\n",
    "        for act_fun2 in actlist:\n",
    "            #define the k-fold cross validator\n",
    "            kfold = KFold(n_splits=5, shuffle=True)\n",
    "            # K-fold Cross Validation model evaluation\n",
    "            fold_no = 1\n",
    "            score_per_fold = []\n",
    "            for train, test in kfold.split(inputs, targets):\n",
    "                # Define the model architecture\n",
    "                model = Sequential()\n",
    "                model.add(Dense(num_neurons, kernel_initializer='normal', input_dim=dim, activation = act_fun1))\n",
    "                model.add(Dense(num_neurons, kernel_initializer='normal', activation = act_fun2))\n",
    "                model.add(Dense(1,kernel_initializer='normal', activation ='linear'))\n",
    "                model.compile(loss='mean_absolute_error', optimizer='adam')   \n",
    "                # Fit data to model\n",
    "                history = model.fit(inputs[train], targets[train],batch_size=50000,epochs=30,verbose=0)\n",
    "                # Generate generalization metrics\n",
    "                score = model.evaluate(inputs[test], targets[test], verbose=0)        \n",
    "                score_per_fold.append(score)\n",
    "                # Increase fold number\n",
    "                fold_no = fold_no + 1\n",
    "            mae_mean = np.mean(score_per_fold)\n",
    "            mae_std = np.std(score_per_fold)\n",
    "            perform[num_neurons, act_fun1, act_fun2] = mae_mean+mae_std\n",
    "            print('> neurons=%d, act_fun1=%s, act_fun2=%s: score = %.3f(%.3f)' % (num_neurons, act_fun1, act_fun2, mae_mean, mae_std))\n",
    "    num_neurons = num_neurons + 1"
   ]
  },
  {
   "cell_type": "code",
   "execution_count": 20,
   "id": "expired-witch",
   "metadata": {},
   "outputs": [
    {
     "name": "stdout",
     "output_type": "stream",
     "text": [
      "[(11, 'tanh', 'relu')]\n"
     ]
    }
   ],
   "source": [
    "#find the parameters with the lowest score (mae_mean+mae_std)\n",
    "perform1={k:v for k,v in perform.items() if v >=0}\n",
    "ans =[min(perform1, key=perform1.get)]\n",
    "print(ans)"
   ]
  },
  {
   "cell_type": "markdown",
   "id": "bibliographic-template",
   "metadata": {},
   "source": [
    "# Final model"
   ]
  },
  {
   "cell_type": "code",
   "execution_count": 21,
   "id": "lucky-london",
   "metadata": {},
   "outputs": [],
   "source": [
    "#build the final ann model\n",
    "Y_train_final = final_train['energy'] #unit: kWh\n",
    "X_train_final = final_train[['speed','acceleration','temperature','humidity','roadGrade']]\n",
    "final_model = Sequential()\n",
    "final_model.add(Dense(ans[0][0],kernel_initializer='normal', input_dim=dim, activation =ans[0][1]))\n",
    "final_model.add(Dense(ans[0][0], kernel_initializer='normal', activation =ans[0][2]))\n",
    "final_model.add(Dense(1,kernel_initializer='normal', activation ='linear'))\n",
    "final_model.compile(loss='mean_absolute_error', optimizer='adam')"
   ]
  },
  {
   "cell_type": "code",
   "execution_count": 22,
   "id": "cooked-sunrise",
   "metadata": {},
   "outputs": [
    {
     "data": {
      "image/png": "[encoded data removed]",
      "text/plain": [
       "<Figure size 432x288 with 1 Axes>"
      ]
     },
     "metadata": {
      "needs_background": "light"
     },
     "output_type": "display_data"
    },
    {
     "name": "stdout",
     "output_type": "stream",
     "text": [
      "MAE is 0.0064906763589964705\n",
      "final loss is 0.0064664534589122975\n"
     ]
    }
   ],
   "source": [
    "#fit model\n",
    "history = final_model.fit(X_train_final, Y_train_final, epochs=50, \n",
    "                    batch_size=50000, verbose = 0)\n",
    "#performance\n",
    "plt.plot(history.history['loss'], label='train')\n",
    "plt.title('model loss')\n",
    "plt.legend()\n",
    "plt.show()\n",
    "\n",
    "scores = final_model.evaluate(X_test, Y_test, verbose=0)\n",
    "print(\"MAE is\",scores)\n",
    "print(\"final loss is\",history.history['loss'][-1])"
   ]
  },
  {
   "cell_type": "code",
   "execution_count": 23,
   "id": "fantastic-insider",
   "metadata": {},
   "outputs": [],
   "source": [
    "final_model.save(f'{Data_Folder}/electric_MY2016.model')"
   ]
  },
  {
   "cell_type": "markdown",
   "id": "placed-monte",
   "metadata": {},
   "source": [
    "# Prediction-test"
   ]
  },
  {
   "cell_type": "code",
   "execution_count": 24,
   "id": "tough-calibration",
   "metadata": {},
   "outputs": [],
   "source": [
    "model = keras.models.load_model(f'{Data_Folder}/electric_MY2016.model')"
   ]
  },
  {
   "cell_type": "code",
   "execution_count": 25,
   "id": "electrical-wright",
   "metadata": {},
   "outputs": [],
   "source": [
    "#prdiction \n",
    "Y_test_final = final_test['energy']\n",
    "X_test_final = final_test[['speed','acceleration','temperature','humidity','roadGrade']]\n",
    "pred = model.predict(X_test_final)"
   ]
  },
  {
   "cell_type": "code",
   "execution_count": 26,
   "id": "internal-edinburgh",
   "metadata": {},
   "outputs": [],
   "source": [
    "true = Y_test_final.to_numpy()"
   ]
  },
  {
   "cell_type": "code",
   "execution_count": 27,
   "id": "solved-stationery",
   "metadata": {},
   "outputs": [
    {
     "name": "stdout",
     "output_type": "stream",
     "text": [
      "MAE= 0.006514052817461315\n",
      "MSE= 0.00030357013403874595\n"
     ]
    }
   ],
   "source": [
    "#error\n",
    "print('MAE=',mean_absolute_error(Y_test_final, pred))\n",
    "print('MSE=',mean_squared_error(Y_test_final, pred))"
   ]
  },
  {
   "cell_type": "code",
   "execution_count": null,
   "id": "adverse-nightlife",
   "metadata": {},
   "outputs": [],
   "source": []
  },
  {
   "cell_type": "code",
   "execution_count": null,
   "id": "funded-holly",
   "metadata": {},
   "outputs": [],
   "source": []
  }
 ],
 "metadata": {
  "kernelspec": {
   "display_name": "Python 3",
   "language": "python",
   "name": "python3"
  },
  "language_info": {
   "codemirror_mode": {
    "name": "ipython",
    "version": 3
   },
   "file_extension": ".py",
   "mimetype": "text/x-python",
   "name": "python",
   "nbconvert_exporter": "python",
   "pygments_lexer": "ipython3",
   "version": "3.7.3"
  }
 },
 "nbformat": 4,
 "nbformat_minor": 5
}
