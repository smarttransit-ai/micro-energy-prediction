{
 "cells": [
  {
   "cell_type": "code",
   "execution_count": 2,
   "id": "filled-joseph",
   "metadata": {},
   "outputs": [],
   "source": [
    "import scipy\n",
    "import statsmodels\n",
    "import sklearn\n",
    "import theano\n",
    "import tensorflow\n",
    "import keras\n",
    "import glob\n",
    "import os\n",
    "import numpy as np\n",
    "import pandas as pd\n",
    "import math\n",
    "from keras.models import Sequential\n",
    "from keras.layers import Dense\n",
    "from sklearn.model_selection import KFold\n",
    "from sklearn.model_selection import train_test_split\n",
    "from sklearn.metrics import mean_absolute_error\n",
    "from sklearn.metrics import mean_squared_error\n",
    "import matplotlib.pyplot as plt\n",
    "import requests\n",
    "from datetime import datetime\n",
    "from datetime import timedelta\n",
    "import time\n",
    "from timeit import default_timer as timer\n",
    "import statistics\n",
    "from dask.distributed import Client\n",
    "from dask import dataframe as dd\n"
   ]
  },
  {
   "cell_type": "markdown",
   "id": "statistical-baghdad",
   "metadata": {},
   "source": [
    "# Data preparation"
   ]
  },
  {
      "cell_type": "code",
      "metadata": {
        "id": "EqmT-wkubEk3"
      },
      "source": [
        "#it is required that you move the raw data from the dropbox location to the Data_Folder\n",
        "Data_Folder=''"
      ],
      "id": "EqmT-wkubEk3",
      "execution_count": null,
      "outputs": []
    },
  {
   "cell_type": "code",
   "execution_count": 3,
   "id": "collected-arena",
   "metadata": {},
   "outputs": [],
   "source": [
    "#read weather data\n",
    "weather1 = pd.read_csv(f'{Data_Folder}/darksky_chattanooga.csv', index_col=False)\n",
    "weather1['period'] = (weather1['time']/300).apply(np.floor)\n",
    "weather1 = weather1[['humidity','temperature','period']]"
   ]
  },
  {
   "cell_type": "code",
   "execution_count": 4,
   "id": "computational-procedure",
   "metadata": {},
   "outputs": [],
   "source": [
    "weather2 = pd.read_pickle(f'{Data_Folder}/weatherbit_1_hr_01-01-2017_06-06-2020.pk')\n",
    "weather2 = weather2.loc[weather2['station_id']=='723240-13882']\n",
    "weather2['period1']=(weather2['ts']/3600).apply(np.floor)\n",
    "weather2 = weather2[['rh','temp','period1']]\n",
    "weather2['rh'] = weather2['rh']/100 #convert % to (0-1)\n",
    "weather2['temp'] = 32+weather2['temp']*9/5 #convert celsius to fahrenheit"
   ]
  },
  {
   "cell_type": "code",
   "execution_count": 5,
   "id": "pretty-wealth",
   "metadata": {},
   "outputs": [],
   "source": [
    "client = Client(n_workers=1, threads_per_worker=4, processes=False, memory_limit='10GB') #note the parameters"
   ]
  },
  {
   "cell_type": "code",
   "execution_count": 6,
   "id": "noticed-confidentiality",
   "metadata": {},
   "outputs": [],
   "source": [
    "vehdata = dd.read_parquet(f'{Data_Folder}/gillelevationfinal',engine=\"pyarrow\")"
   ]
  },
  {
   "cell_type": "code",
   "execution_count": 7,
   "id": "fossil-captain",
   "metadata": {},
   "outputs": [],
   "source": [
    "veh = vehdata.loc[vehdata['name'] == 'Gillig #503']\n",
    "veh = veh.compute()"
   ]
  },
  {
   "cell_type": "code",
   "execution_count": 8,
   "id": "intermediate-cameroon",
   "metadata": {},
   "outputs": [
    {
     "data": {
      "text/plain": [
       "Index(['unixtimestamp', 'isotime', 'timeuseastern', 'name', 'fuelused',\n",
       "       'distancedriven', 'acceleratorpedalpercent', 'ambientairtempf',\n",
       "       'galperhour', 'rpm', 'vehiclespeed', 'altitude', 'latitude',\n",
       "       'longitude', 'gpsspeed', 'hour', 'minute', 'elevation', 'month',\n",
       "       'year'],\n",
       "      dtype='object')"
      ]
     },
     "execution_count": 8,
     "metadata": {},
     "output_type": "execute_result"
    }
   ],
   "source": [
    "veh.columns"
   ]
  },
  {
   "cell_type": "code",
   "execution_count": 9,
   "id": "numerical-edgar",
   "metadata": {},
   "outputs": [],
   "source": [
    "veh['period']=(veh['unixtimestamp']/300000).apply(np.floor)\n",
    "veh['period1']=(veh['unixtimestamp']/3600000).apply(np.floor)"
   ]
  },
  {
   "cell_type": "code",
   "execution_count": 10,
   "id": "broad-hybrid",
   "metadata": {},
   "outputs": [],
   "source": [
    "#merge data with weather1\n",
    "dt = pd.merge(veh,weather1,on=['period'],how='left')\n",
    "#merge data with weather2\n",
    "df = pd.merge(dt,weather2,on=['period1'],how='left')"
   ]
  },
  {
   "cell_type": "code",
   "execution_count": 11,
   "id": "applicable-intro",
   "metadata": {},
   "outputs": [
    {
     "name": "stdout",
     "output_type": "stream",
     "text": [
      "5262902\n"
     ]
    },
    {
     "data": {
      "text/plain": [
       "Index(['unixtimestamp', 'isotime', 'timeuseastern', 'name', 'fuelused',\n",
       "       'distancedriven', 'acceleratorpedalpercent', 'ambientairtempf',\n",
       "       'galperhour', 'rpm', 'vehiclespeed', 'altitude', 'latitude',\n",
       "       'longitude', 'gpsspeed', 'hour', 'minute', 'elevation', 'month', 'year',\n",
       "       'period', 'period1', 'humidity', 'temperature', 'rh', 'temp'],\n",
       "      dtype='object')"
      ]
     },
     "execution_count": 11,
     "metadata": {},
     "output_type": "execute_result"
    }
   ],
   "source": [
    "#fill the missing humidity and temperature from weather1 with that of weather2\n",
    "df['humidity'] = df['humidity'].fillna(df['rh'])\n",
    "df['temperature'] = df['temperature'].fillna(df['temp'])\n",
    "df = df.dropna(subset=['vehiclespeed'])\n",
    "df = df.sort_values(['unixtimestamp'])\n",
    "print(len(df))\n",
    "df.columns"
   ]
  },
  {
   "cell_type": "code",
   "execution_count": 12,
   "id": "right-weather",
   "metadata": {},
   "outputs": [
    {
     "name": "stdout",
     "output_type": "stream",
     "text": [
      "5262890\n"
     ]
    }
   ],
   "source": [
    "#process data\n",
    "df['elevdiff']=df['elevation'].diff() #ft\n",
    "df['elevdiff']=df['elevdiff']*0.000189394 #convert ft to mile\n",
    "df['distdiff']=df['distancedriven'].diff()\n",
    "df['roadGrade']=df['elevdiff']/df['distdiff']\n",
    "df['roadGrade']=df['roadGrade'].replace(np.inf, 0)\n",
    "df['roadGrade']=df['roadGrade'].replace(-np.inf, 0)\n",
    "df['speed'] = df['vehiclespeed']*1.60934 #convert to km/h\n",
    "#interpolate if raw data is unfilled\n",
    "FuelRate = df['galperhour']\n",
    "FuelRate = FuelRate.interpolate()\n",
    "df['FuelRate'] = FuelRate\n",
    "Speed = df['speed']\n",
    "Speed = Speed.interpolate()\n",
    "df['speed'] = Speed\n",
    "#calculate acceleration\n",
    "speedms = df['speed']*1000/3600\n",
    "df['acceleration']=speedms.diff() #unit: m/s^2\n",
    "# df = df.drop(df[df.FuelRate == 0].index)\n",
    "df=df[['speed','acceleration','temperature','humidity','roadGrade','FuelRate',]]\n",
    "df=df.interpolate(method='linear', limit_direction='forward')\n",
    "df=df.dropna()\n",
    "print(len(df))"
   ]
  },
  {
   "cell_type": "code",
   "execution_count": 13,
   "id": "boring-philip",
   "metadata": {},
   "outputs": [
    {
     "data": {
      "text/html": [
       "<div>\n",
       "<style scoped>\n",
       "    .dataframe tbody tr th:only-of-type {\n",
       "        vertical-align: middle;\n",
       "    }\n",
       "\n",
       "    .dataframe tbody tr th {\n",
       "        vertical-align: top;\n",
       "    }\n",
       "\n",
       "    .dataframe thead th {\n",
       "        text-align: right;\n",
       "    }\n",
       "</style>\n",
       "<table border=\"1\" class=\"dataframe\">\n",
       "  <thead>\n",
       "    <tr style=\"text-align: right;\">\n",
       "      <th></th>\n",
       "      <th>speed</th>\n",
       "      <th>acceleration</th>\n",
       "      <th>temperature</th>\n",
       "      <th>humidity</th>\n",
       "      <th>roadGrade</th>\n",
       "      <th>FuelRate</th>\n",
       "    </tr>\n",
       "  </thead>\n",
       "  <tbody>\n",
       "    <tr>\n",
       "      <th>1006145</th>\n",
       "      <td>22.640195</td>\n",
       "      <td>1.354081</td>\n",
       "      <td>77.71</td>\n",
       "      <td>0.64</td>\n",
       "      <td>0.000000</td>\n",
       "      <td>2.866</td>\n",
       "    </tr>\n",
       "    <tr>\n",
       "      <th>1006146</th>\n",
       "      <td>22.640195</td>\n",
       "      <td>0.000000</td>\n",
       "      <td>77.71</td>\n",
       "      <td>0.64</td>\n",
       "      <td>0.003697</td>\n",
       "      <td>2.866</td>\n",
       "    </tr>\n",
       "    <tr>\n",
       "      <th>1070592</th>\n",
       "      <td>22.640195</td>\n",
       "      <td>0.000000</td>\n",
       "      <td>77.71</td>\n",
       "      <td>0.64</td>\n",
       "      <td>0.007394</td>\n",
       "      <td>2.866</td>\n",
       "    </tr>\n",
       "    <tr>\n",
       "      <th>1070593</th>\n",
       "      <td>22.640195</td>\n",
       "      <td>0.000000</td>\n",
       "      <td>77.71</td>\n",
       "      <td>0.64</td>\n",
       "      <td>0.011091</td>\n",
       "      <td>2.866</td>\n",
       "    </tr>\n",
       "    <tr>\n",
       "      <th>974942</th>\n",
       "      <td>26.546063</td>\n",
       "      <td>1.084963</td>\n",
       "      <td>77.71</td>\n",
       "      <td>0.64</td>\n",
       "      <td>0.014788</td>\n",
       "      <td>3.500</td>\n",
       "    </tr>\n",
       "  </tbody>\n",
       "</table>\n",
       "</div>"
      ],
      "text/plain": [
       "             speed  acceleration  temperature  humidity  roadGrade  FuelRate\n",
       "1006145  22.640195      1.354081        77.71      0.64   0.000000     2.866\n",
       "1006146  22.640195      0.000000        77.71      0.64   0.003697     2.866\n",
       "1070592  22.640195      0.000000        77.71      0.64   0.007394     2.866\n",
       "1070593  22.640195      0.000000        77.71      0.64   0.011091     2.866\n",
       "974942   26.546063      1.084963        77.71      0.64   0.014788     3.500"
      ]
     },
     "execution_count": 13,
     "metadata": {},
     "output_type": "execute_result"
    }
   ],
   "source": [
    "df.head()"
   ]
  },
  {
   "cell_type": "code",
   "execution_count": 14,
   "id": "flush-oakland",
   "metadata": {},
   "outputs": [],
   "source": [
    "#leave out the final test datasets\n",
    "final_train, final_test = train_test_split(df,random_state=6,test_size=0.1)\n",
    "#spilt the remaining dataset\n",
    "train, test = train_test_split(final_train,random_state=6,test_size=0.3)"
   ]
  },
  {
   "cell_type": "code",
   "execution_count": 15,
   "id": "antique-repository",
   "metadata": {},
   "outputs": [],
   "source": [
    "Y_train = train['FuelRate'] #unit: gal/h\n",
    "X_train = train[['speed','acceleration','temperature','humidity','roadGrade']]\n",
    "Y_test = test['FuelRate']\n",
    "X_test = test[['speed','acceleration','temperature','humidity','roadGrade']]"
   ]
  },
  {
   "cell_type": "code",
   "execution_count": 16,
   "id": "uniform-pavilion",
   "metadata": {},
   "outputs": [
    {
     "name": "stdout",
     "output_type": "stream",
     "text": [
      "3315620\n"
     ]
    }
   ],
   "source": [
    "print(len(train))"
   ]
  },
  {
   "cell_type": "markdown",
   "id": "experienced-museum",
   "metadata": {},
   "source": [
    "# Model selection based on k-fold cross validation"
   ]
  },
  {
   "cell_type": "code",
   "execution_count": 17,
   "id": "married-approach",
   "metadata": {},
   "outputs": [],
   "source": [
    "inputs = np.concatenate((X_train, X_test), axis=0)\n",
    "targets = np.concatenate((Y_train, Y_test), axis=0)"
   ]
  },
  {
   "cell_type": "code",
   "execution_count": 18,
   "id": "sitting-great",
   "metadata": {},
   "outputs": [],
   "source": [
    "dim = df.shape[1]-1\n",
    "N_upper = dim*2+1 #the upper limit for the number of neurons in a hidden layer\n",
    "actlist = ['relu','sigmoid','tanh']"
   ]
  },
  {
   "cell_type": "code",
   "execution_count": 19,
   "id": "terminal-queens",
   "metadata": {},
   "outputs": [
    {
     "name": "stdout",
     "output_type": "stream",
     "text": [
      "-------------------------------------------------------\n",
      "WARNING:tensorflow:From C:\\ProgramData\\Anaconda3\\lib\\site-packages\\keras\\backend\\tensorflow_backend.py:422: The name tf.global_variables is deprecated. Please use tf.compat.v1.global_variables instead.\n",
      "\n",
      "> neurons=5, act_fun1=relu, act_fun2=relu: score = 0.953(0.038)\n",
      "> neurons=5, act_fun1=relu, act_fun2=sigmoid: score = 0.969(0.007)\n",
      "> neurons=5, act_fun1=relu, act_fun2=tanh: score = 0.946(0.022)\n",
      "> neurons=5, act_fun1=sigmoid, act_fun2=relu: score = 0.958(0.031)\n",
      "> neurons=5, act_fun1=sigmoid, act_fun2=sigmoid: score = 0.983(0.001)\n",
      "> neurons=5, act_fun1=sigmoid, act_fun2=tanh: score = 0.983(0.002)\n",
      "> neurons=5, act_fun1=tanh, act_fun2=relu: score = 0.962(0.200)\n",
      "> neurons=5, act_fun1=tanh, act_fun2=sigmoid: score = 0.933(0.020)\n",
      "> neurons=5, act_fun1=tanh, act_fun2=tanh: score = 0.918(0.028)\n",
      "-------------------------------------------------------\n",
      "> neurons=6, act_fun1=relu, act_fun2=relu: score = 0.912(0.051)\n",
      "> neurons=6, act_fun1=relu, act_fun2=sigmoid: score = 0.964(0.004)\n",
      "> neurons=6, act_fun1=relu, act_fun2=tanh: score = 0.911(0.019)\n",
      "> neurons=6, act_fun1=sigmoid, act_fun2=relu: score = 1.042(0.166)\n",
      "> neurons=6, act_fun1=sigmoid, act_fun2=sigmoid: score = 0.981(0.001)\n",
      "> neurons=6, act_fun1=sigmoid, act_fun2=tanh: score = 0.984(0.003)\n",
      "> neurons=6, act_fun1=tanh, act_fun2=relu: score = 0.860(0.024)\n",
      "> neurons=6, act_fun1=tanh, act_fun2=sigmoid: score = 0.919(0.024)\n",
      "> neurons=6, act_fun1=tanh, act_fun2=tanh: score = 0.891(0.006)\n",
      "-------------------------------------------------------\n",
      "> neurons=7, act_fun1=relu, act_fun2=relu: score = 0.843(0.022)\n",
      "> neurons=7, act_fun1=relu, act_fun2=sigmoid: score = 0.962(0.003)\n",
      "> neurons=7, act_fun1=relu, act_fun2=tanh: score = 0.891(0.029)\n",
      "> neurons=7, act_fun1=sigmoid, act_fun2=relu: score = 0.910(0.006)\n",
      "> neurons=7, act_fun1=sigmoid, act_fun2=sigmoid: score = 0.980(0.000)\n",
      "> neurons=7, act_fun1=sigmoid, act_fun2=tanh: score = 0.981(0.004)\n",
      "> neurons=7, act_fun1=tanh, act_fun2=relu: score = 0.845(0.026)\n",
      "> neurons=7, act_fun1=tanh, act_fun2=sigmoid: score = 0.920(0.028)\n",
      "> neurons=7, act_fun1=tanh, act_fun2=tanh: score = 0.891(0.019)\n",
      "-------------------------------------------------------\n",
      "> neurons=8, act_fun1=relu, act_fun2=relu: score = 0.883(0.075)\n",
      "> neurons=8, act_fun1=relu, act_fun2=sigmoid: score = 0.938(0.027)\n",
      "> neurons=8, act_fun1=relu, act_fun2=tanh: score = 0.869(0.045)\n",
      "> neurons=8, act_fun1=sigmoid, act_fun2=relu: score = 0.947(0.038)\n",
      "> neurons=8, act_fun1=sigmoid, act_fun2=sigmoid: score = 0.979(0.003)\n",
      "> neurons=8, act_fun1=sigmoid, act_fun2=tanh: score = 0.976(0.004)\n",
      "> neurons=8, act_fun1=tanh, act_fun2=relu: score = 0.847(0.016)\n",
      "> neurons=8, act_fun1=tanh, act_fun2=sigmoid: score = 0.879(0.008)\n",
      "> neurons=8, act_fun1=tanh, act_fun2=tanh: score = 0.871(0.005)\n",
      "-------------------------------------------------------\n",
      "> neurons=9, act_fun1=relu, act_fun2=relu: score = 0.845(0.068)\n",
      "> neurons=9, act_fun1=relu, act_fun2=sigmoid: score = 0.946(0.028)\n",
      "> neurons=9, act_fun1=relu, act_fun2=tanh: score = 0.820(0.017)\n",
      "> neurons=9, act_fun1=sigmoid, act_fun2=relu: score = 0.901(0.037)\n",
      "> neurons=9, act_fun1=sigmoid, act_fun2=sigmoid: score = 0.980(0.001)\n",
      "> neurons=9, act_fun1=sigmoid, act_fun2=tanh: score = 0.968(0.001)\n",
      "> neurons=9, act_fun1=tanh, act_fun2=relu: score = 0.821(0.005)\n",
      "> neurons=9, act_fun1=tanh, act_fun2=sigmoid: score = 0.862(0.008)\n",
      "> neurons=9, act_fun1=tanh, act_fun2=tanh: score = 0.856(0.009)\n",
      "-------------------------------------------------------\n",
      "> neurons=10, act_fun1=relu, act_fun2=relu: score = 0.864(0.055)\n",
      "> neurons=10, act_fun1=relu, act_fun2=sigmoid: score = 0.930(0.035)\n",
      "> neurons=10, act_fun1=relu, act_fun2=tanh: score = 0.878(0.049)\n",
      "> neurons=10, act_fun1=sigmoid, act_fun2=relu: score = 0.868(0.008)\n",
      "> neurons=10, act_fun1=sigmoid, act_fun2=sigmoid: score = 0.975(0.006)\n",
      "> neurons=10, act_fun1=sigmoid, act_fun2=tanh: score = 0.932(0.030)\n",
      "> neurons=10, act_fun1=tanh, act_fun2=relu: score = 0.820(0.007)\n",
      "> neurons=10, act_fun1=tanh, act_fun2=sigmoid: score = 0.861(0.012)\n",
      "> neurons=10, act_fun1=tanh, act_fun2=tanh: score = 0.843(0.005)\n",
      "-------------------------------------------------------\n",
      "> neurons=11, act_fun1=relu, act_fun2=relu: score = 0.848(0.061)\n",
      "> neurons=11, act_fun1=relu, act_fun2=sigmoid: score = 0.904(0.032)\n",
      "> neurons=11, act_fun1=relu, act_fun2=tanh: score = 0.816(0.019)\n",
      "> neurons=11, act_fun1=sigmoid, act_fun2=relu: score = 0.867(0.012)\n",
      "> neurons=11, act_fun1=sigmoid, act_fun2=sigmoid: score = 0.971(0.006)\n",
      "> neurons=11, act_fun1=sigmoid, act_fun2=tanh: score = 0.961(0.006)\n",
      "> neurons=11, act_fun1=tanh, act_fun2=relu: score = 0.807(0.006)\n",
      "> neurons=11, act_fun1=tanh, act_fun2=sigmoid: score = 0.848(0.010)\n",
      "> neurons=11, act_fun1=tanh, act_fun2=tanh: score = 0.824(0.011)\n"
     ]
    }
   ],
   "source": [
    "perform = {}\n",
    "num_neurons = dim\n",
    "while num_neurons <= N_upper:\n",
    "    print('-------------------------------------------------------')\n",
    "    for act_fun1 in actlist:\n",
    "        for act_fun2 in actlist:\n",
    "            #define the k-fold cross validator\n",
    "            kfold = KFold(n_splits=5, shuffle=True)\n",
    "            # K-fold Cross Validation model evaluation\n",
    "            fold_no = 1\n",
    "            score_per_fold = []\n",
    "            for train, test in kfold.split(inputs, targets):\n",
    "                # Define the model architecture\n",
    "                model = Sequential()\n",
    "                model.add(Dense(num_neurons, kernel_initializer='normal', input_dim=dim, activation = act_fun1))\n",
    "                model.add(Dense(num_neurons, kernel_initializer='normal', activation = act_fun2))\n",
    "                model.add(Dense(1,kernel_initializer='normal', activation ='linear'))\n",
    "                model.compile(loss='mean_absolute_error', optimizer='adam')   \n",
    "                # Fit data to model\n",
    "                history = model.fit(inputs[train], targets[train],batch_size=50000,epochs=30,verbose=0)\n",
    "                # Generate generalization metrics\n",
    "                score = model.evaluate(inputs[test], targets[test], verbose=0)        \n",
    "                score_per_fold.append(score)\n",
    "                # Increase fold number\n",
    "                fold_no = fold_no + 1\n",
    "            mae_mean = np.mean(score_per_fold)\n",
    "            mae_std = np.std(score_per_fold)\n",
    "            perform[num_neurons, act_fun1, act_fun2] = mae_mean+mae_std\n",
    "            print('> neurons=%d, act_fun1=%s, act_fun2=%s: score = %.3f(%.3f)' % (num_neurons, act_fun1, act_fun2, mae_mean, mae_std))\n",
    "    num_neurons = num_neurons + 1"
   ]
  },
  {
   "cell_type": "code",
   "execution_count": 20,
   "id": "specific-relations",
   "metadata": {},
   "outputs": [
    {
     "name": "stdout",
     "output_type": "stream",
     "text": [
      "[(11, 'tanh', 'relu')]\n"
     ]
    }
   ],
   "source": [
    "#find the parameters with the lowest score (mae_mean+mae_std)\n",
    "perform1={k:v for k,v in perform.items() if v >=0}\n",
    "ans =[min(perform1, key=perform1.get)]\n",
    "print(ans)"
   ]
  },
  {
   "cell_type": "markdown",
   "id": "powerful-pacific",
   "metadata": {},
   "source": [
    "# Final model"
   ]
  },
  {
   "cell_type": "code",
   "execution_count": 21,
   "id": "formal-electron",
   "metadata": {},
   "outputs": [],
   "source": [
    "#build the final ann model\n",
    "Y_train_final = final_train['FuelRate'] #unit: gal/h\n",
    "X_train_final = final_train[['speed','acceleration','temperature','humidity','roadGrade']]\n",
    "final_model = Sequential()\n",
    "final_model.add(Dense(ans[0][0],kernel_initializer='normal', input_dim=dim, activation =ans[0][1]))\n",
    "final_model.add(Dense(ans[0][0], kernel_initializer='normal', activation =ans[0][2]))\n",
    "final_model.add(Dense(1,kernel_initializer='normal', activation ='linear'))\n",
    "final_model.compile(loss='mean_absolute_error', optimizer='adam')"
   ]
  },
  {
   "cell_type": "code",
   "execution_count": 22,
   "id": "moral-piano",
   "metadata": {},
   "outputs": [
    {
     "data": {
      "image/png": "[encoded data removed]",
      "text/plain": [
       "<Figure size 432x288 with 1 Axes>"
      ]
     },
     "metadata": {
      "needs_background": "light"
     },
     "output_type": "display_data"
    },
    {
     "name": "stdout",
     "output_type": "stream",
     "text": [
      "MAE is 0.7679448635865566\n",
      "final loss is 0.7689882084998308\n"
     ]
    }
   ],
   "source": [
    "#fit model\n",
    "history = final_model.fit(X_train_final, Y_train_final, epochs=50, \n",
    "                    batch_size=50000, verbose = 0)\n",
    "#performance\n",
    "plt.plot(history.history['loss'], label='train')\n",
    "plt.title('model loss')\n",
    "plt.legend()\n",
    "plt.show()\n",
    "\n",
    "scores = final_model.evaluate(X_test, Y_test, verbose=0)\n",
    "print(\"MAE is\",scores)\n",
    "print(\"final loss is\",history.history['loss'][-1])"
   ]
  },
  {
   "cell_type": "code",
   "execution_count": 23,
   "id": "negative-romance",
   "metadata": {},
   "outputs": [],
   "source": [
    "final_model.save(f'{Data_Folder}/hybrid_MY2014.model')"
   ]
  },
  {
   "cell_type": "markdown",
   "id": "brief-latex",
   "metadata": {},
   "source": [
    "# Prediction-test"
   ]
  },
  {
   "cell_type": "code",
   "execution_count": 24,
   "id": "comfortable-relation",
   "metadata": {},
   "outputs": [],
   "source": [
    "model = keras.models.load_model(f'{Data_Folder}/hybrid_MY2014.model')"
   ]
  },
  {
   "cell_type": "code",
   "execution_count": 25,
   "id": "mexican-groove",
   "metadata": {},
   "outputs": [],
   "source": [
    "#prdiction \n",
    "Y_test_final = final_test['FuelRate']\n",
    "X_test_final = final_test[['speed','acceleration','temperature','humidity','roadGrade']]\n",
    "pred = model.predict(X_test_final)"
   ]
  },
  {
   "cell_type": "code",
   "execution_count": 26,
   "id": "empirical-listing",
   "metadata": {},
   "outputs": [],
   "source": [
    "true = Y_test_final.to_numpy()"
   ]
  },
  {
   "cell_type": "code",
   "execution_count": 27,
   "id": "viral-hamilton",
   "metadata": {},
   "outputs": [
    {
     "name": "stdout",
     "output_type": "stream",
     "text": [
      "MAE= 0.7665918734131888\n",
      "MSE= 2.305700128906429\n"
     ]
    }
   ],
   "source": [
    "#error\n",
    "print('MAE=',mean_absolute_error(Y_test_final, pred))\n",
    "print('MSE=',mean_squared_error(Y_test_final, pred))\n"
   ]
  },
  {
   "cell_type": "code",
   "execution_count": null,
   "id": "narrative-escape",
   "metadata": {},
   "outputs": [],
   "source": []
  }
 ],
 "metadata": {
  "kernelspec": {
   "display_name": "Python 3",
   "language": "python",
   "name": "python3"
  },
  "language_info": {
   "codemirror_mode": {
    "name": "ipython",
    "version": 3
   },
   "file_extension": ".py",
   "mimetype": "text/x-python",
   "name": "python",
   "nbconvert_exporter": "python",
   "pygments_lexer": "ipython3",
   "version": "3.7.3"
  }
 },
 "nbformat": 4,
 "nbformat_minor": 5
}
