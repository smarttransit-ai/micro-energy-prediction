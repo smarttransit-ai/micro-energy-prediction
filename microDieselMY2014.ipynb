{
 "cells": [
  {
   "cell_type": "code",
   "execution_count": 2,
   "id": "filled-joseph",
   "metadata": {},
   "outputs": [],
   "source": [
    "import scipy\n",
    "import statsmodels\n",
    "import sklearn\n",
    "import theano\n",
    "import tensorflow\n",
    "import keras\n",
    "import glob\n",
    "import os\n",
    "import numpy as np\n",
    "import pandas as pd\n",
    "import math\n",
    "from keras.models import Sequential\n",
    "from keras.layers import Dense\n",
    "from sklearn.model_selection import KFold\n",
    "from sklearn.model_selection import train_test_split\n",
    "import matplotlib.pyplot as plt\n",
    "import requests\n",
    "from datetime import datetime\n",
    "import time"
   ]
  },
  {
   "cell_type": "markdown",
   "id": "ambient-treat",
   "metadata": {},
   "source": [
    "# Data preparation"
   ]
  },
  {
   "cell_type": "code",
   "execution_count": 3,
   "id": "choice-bathroom",
   "metadata": {},
   "outputs": [],
   "source": [
    "#read weather data\n",
    "weather = pd.read_csv('F:/Research/EnergyEstimation/darksky_chattanooga.csv', index_col=False)\n",
    "weather['period']=(weather['time']/300).apply(np.floor)\n",
    "weather1=weather[['humidity','temperature','period']]"
   ]
  },
  {
   "cell_type": "code",
   "execution_count": 4,
   "id": "tough-chart",
   "metadata": {},
   "outputs": [],
   "source": [
    "#read vehicle data in four seasons\n",
    "path = r'F:/Research/EnergyEstimation/Data'                    \n",
    "all_files = glob.glob(os.path.join(path, \"Gill147*.csv\")) \n",
    "df_from_each_file = (pd.read_csv(f) for f in all_files)\n",
    "allseason = pd.concat(df_from_each_file)\n",
    "allseason=allseason.sort_values(['Unix Timestamp [ms]'])\n",
    "allseason['period']=(allseason['Unix Timestamp [ms]']/300000).apply(np.floor)\n",
    "allseason=allseason.dropna()"
   ]
  },
  {
   "cell_type": "code",
   "execution_count": 5,
   "id": "insured-price",
   "metadata": {},
   "outputs": [
    {
     "name": "stdout",
     "output_type": "stream",
     "text": [
      "2344749\n"
     ]
    },
    {
     "data": {
      "text/plain": [
       "Index(['Unix Timestamp [ms]', 'Time ISO', 'Time [US/Eastern]', 'Name',\n",
       "       'Analysis - fuel - Fuel used [gal]',\n",
       "       'Analysis - other - Distance driven [mi]',\n",
       "       'Vehicle - Acceleratorpedal Position [%]',\n",
       "       'Vehicle - Ambient Air Temperature [°F]',\n",
       "       'Engine - Engine Fuel Rate [gal/h]', 'Engine - Engine Speed [rpm]',\n",
       "       'Vehicle - Wheel Based Vehicle Speed [mi/h]', 'GPS - Altitude [m]',\n",
       "       'GPS - GPS position Latitude', 'GPS - GPS position Longitude',\n",
       "       'GPS - GPS speed [mi/h]', 'period', 'humidity', 'temperature'],\n",
       "      dtype='object')"
      ]
     },
     "execution_count": 5,
     "metadata": {},
     "output_type": "execute_result"
    }
   ],
   "source": [
    "#merge data\n",
    "df = pd.merge(allseason,weather1,on=['period'],how='left')\n",
    "print(len(df))\n",
    "df.columns"
   ]
  },
  {
   "cell_type": "code",
   "execution_count": 6,
   "id": "actual-editing",
   "metadata": {},
   "outputs": [],
   "source": [
    "def request_elevation(lat,\n",
    "                      lon,\n",
    "                      units='Meters',\n",
    "                      max_tries=10,\n",
    "                      sec_btw_tries=1):\n",
    "    usgs_url = r'https://nationalmap.gov/epqs/pqs.php?'\n",
    "    usgs_params = {'output': 'json', 'x': lon, 'y': lat, 'units': units}\n",
    "    for i in range(max_tries):\n",
    "        try:\n",
    "            usgs_request = requests.get(url=usgs_url,\n",
    "                                        params=usgs_params)\n",
    "            elevation = float(usgs_request.json()['USGS_Elevation_Point_Query_Service']['Elevation_Query']['Elevation'])\n",
    "            break\n",
    "        except Exception as e:\n",
    "            print(e)\n",
    "            elevation = None\n",
    "            time.sleep(sec_btw_tries)\n",
    "    return elevation"
   ]
  },
  {
   "cell_type": "code",
   "execution_count": null,
   "id": "romantic-storage",
   "metadata": {},
   "outputs": [],
   "source": [
    "#request elevation\n",
    "df['elevation']=df.apply(lambda row: request_elevation(row['GPS - GPS position Latitude'], row['GPS - GPS position Longitude']), axis=1)"
   ]
  },
  {
   "cell_type": "code",
   "execution_count": 7,
   "id": "brilliant-score",
   "metadata": {},
   "outputs": [
    {
     "name": "stdout",
     "output_type": "stream",
     "text": [
      "2344746\n"
     ]
    }
   ],
   "source": [
    "#process data\n",
    "df['elevation']=0 \n",
    "df['elevdiff']=df['elevation'].diff() #ft\n",
    "df['elevdiff']=df['elevation']*0.000189394 #convert ft to mile\n",
    "df['distdiff']=df['Analysis - other - Distance driven [mi]'].diff()\n",
    "df['roadGrade']=df['elevdiff']/df['distdiff']\n",
    "df['speed'] = df['Vehicle - Wheel Based Vehicle Speed [mi/h]']*1.60934 #convert to km/h\n",
    "#interpolate if raw data is unfilled\n",
    "FuelRate = df['Engine - Engine Fuel Rate [gal/h]']\n",
    "FuelRate = FuelRate.interpolate()\n",
    "df['FuelRate'] = FuelRate\n",
    "Speed = df['speed']\n",
    "Speed = Speed.interpolate()\n",
    "df['speed'] = Speed\n",
    "#calculate acceleration\n",
    "speedms = df['speed']*1000/3600\n",
    "df['acceleration']=speedms.diff() #unit: m/s^2\n",
    "# df = df.drop(df[df.FuelRate == 0].index)\n",
    "df=df[['speed','acceleration','temperature','humidity','roadGrade','FuelRate',]]\n",
    "df=df.interpolate(method='linear', limit_direction='forward')\n",
    "df=df.dropna()\n",
    "print(len(df))"
   ]
  },
  {
   "cell_type": "code",
   "execution_count": 8,
   "id": "chubby-powell",
   "metadata": {},
   "outputs": [
    {
     "data": {
      "text/html": [
       "<div>\n",
       "<style scoped>\n",
       "    .dataframe tbody tr th:only-of-type {\n",
       "        vertical-align: middle;\n",
       "    }\n",
       "\n",
       "    .dataframe tbody tr th {\n",
       "        vertical-align: top;\n",
       "    }\n",
       "\n",
       "    .dataframe thead th {\n",
       "        text-align: right;\n",
       "    }\n",
       "</style>\n",
       "<table border=\"1\" class=\"dataframe\">\n",
       "  <thead>\n",
       "    <tr style=\"text-align: right;\">\n",
       "      <th></th>\n",
       "      <th>speed</th>\n",
       "      <th>acceleration</th>\n",
       "      <th>temperature</th>\n",
       "      <th>humidity</th>\n",
       "      <th>roadGrade</th>\n",
       "      <th>FuelRate</th>\n",
       "    </tr>\n",
       "  </thead>\n",
       "  <tbody>\n",
       "    <tr>\n",
       "      <th>3</th>\n",
       "      <td>4.436950</td>\n",
       "      <td>0.195356</td>\n",
       "      <td>41.44</td>\n",
       "      <td>0.63</td>\n",
       "      <td>0.0</td>\n",
       "      <td>1.876</td>\n",
       "    </tr>\n",
       "    <tr>\n",
       "      <th>4</th>\n",
       "      <td>5.062984</td>\n",
       "      <td>0.173898</td>\n",
       "      <td>41.44</td>\n",
       "      <td>0.63</td>\n",
       "      <td>0.0</td>\n",
       "      <td>1.757</td>\n",
       "    </tr>\n",
       "    <tr>\n",
       "      <th>5</th>\n",
       "      <td>6.155725</td>\n",
       "      <td>0.303539</td>\n",
       "      <td>41.44</td>\n",
       "      <td>0.63</td>\n",
       "      <td>0.0</td>\n",
       "      <td>1.796</td>\n",
       "    </tr>\n",
       "    <tr>\n",
       "      <th>6</th>\n",
       "      <td>6.327925</td>\n",
       "      <td>0.047833</td>\n",
       "      <td>41.44</td>\n",
       "      <td>0.63</td>\n",
       "      <td>0.0</td>\n",
       "      <td>1.757</td>\n",
       "    </tr>\n",
       "    <tr>\n",
       "      <th>7</th>\n",
       "      <td>6.484031</td>\n",
       "      <td>0.043363</td>\n",
       "      <td>41.44</td>\n",
       "      <td>0.63</td>\n",
       "      <td>0.0</td>\n",
       "      <td>1.717</td>\n",
       "    </tr>\n",
       "  </tbody>\n",
       "</table>\n",
       "</div>"
      ],
      "text/plain": [
       "      speed  acceleration  temperature  humidity  roadGrade  FuelRate\n",
       "3  4.436950      0.195356        41.44      0.63        0.0     1.876\n",
       "4  5.062984      0.173898        41.44      0.63        0.0     1.757\n",
       "5  6.155725      0.303539        41.44      0.63        0.0     1.796\n",
       "6  6.327925      0.047833        41.44      0.63        0.0     1.757\n",
       "7  6.484031      0.043363        41.44      0.63        0.0     1.717"
      ]
     },
     "execution_count": 8,
     "metadata": {},
     "output_type": "execute_result"
    }
   ],
   "source": [
    "df.head()"
   ]
  },
  {
   "cell_type": "markdown",
   "id": "victorian-reminder",
   "metadata": {},
   "source": [
    "# Built model"
   ]
  },
  {
   "cell_type": "code",
   "execution_count": 10,
   "id": "satisfied-apparel",
   "metadata": {},
   "outputs": [],
   "source": [
    "#split train and test datasets\n",
    "train, test = train_test_split(df,random_state=6,test_size=0.2)"
   ]
  },
  {
   "cell_type": "code",
   "execution_count": 11,
   "id": "formal-electron",
   "metadata": {},
   "outputs": [],
   "source": [
    "#build ann model\n",
    "Y_train = train['FuelRate'] #unit: gal/h\n",
    "X_train = train[['speed','acceleration','temperature','humidity','roadGrade']]\n",
    "Y_test = test['FuelRate']\n",
    "X_test = test[['speed','acceleration','temperature','humidity','roadGrade']]\n",
    "model = Sequential()\n",
    "model.add(Dense(6,kernel_initializer='normal', input_dim=5, activation ='relu'))\n",
    "model.add(Dense(6, kernel_initializer='normal', activation ='relu'))\n",
    "model.add(Dense(1,kernel_initializer='normal', activation ='linear'))\n",
    "model.compile(loss='mean_absolute_error', optimizer='adam',metrics=['mse','mae'])"
   ]
  },
  {
   "cell_type": "code",
   "execution_count": 12,
   "id": "streaming-spray",
   "metadata": {},
   "outputs": [
    {
     "name": "stdout",
     "output_type": "stream",
     "text": [
      "WARNING:tensorflow:From C:\\ProgramData\\Anaconda3\\lib\\site-packages\\keras\\backend\\tensorflow_backend.py:422: The name tf.global_variables is deprecated. Please use tf.compat.v1.global_variables instead.\n",
      "\n"
     ]
    },
    {
     "data": {
      "image/png": "[encoded data removed]",
      "text/plain": [
       "<Figure size 432x288 with 1 Axes>"
      ]
     },
     "metadata": {
      "needs_background": "light"
     },
     "output_type": "display_data"
    },
    {
     "name": "stdout",
     "output_type": "stream",
     "text": [
      "MAE is 0.7734641421747457\n",
      "MSE is 1.7673139572143555\n",
      "train final loss is 0.7746100054807573\n",
      "validation final loss is 0.7747931443865791\n"
     ]
    }
   ],
   "source": [
    "#fit model\n",
    "history = model.fit(X_train, Y_train, validation_split=0.2, epochs=30, \n",
    "                    batch_size=16384, verbose = 0)\n",
    "#performance\n",
    "plt.plot(history.history['loss'], label='train')\n",
    "plt.plot(history.history['val_loss'], label='validation')\n",
    "plt.title('model loss')\n",
    "plt.legend()\n",
    "plt.show()\n",
    "\n",
    "scores = model.evaluate(X_test, Y_test, verbose=0)\n",
    "print(\"MAE is\",scores[0])\n",
    "print(\"MSE is\",scores[1])\n",
    "print(\"train final loss is\",history.history['loss'][-1])\n",
    "print(\"validation final loss is\",history.history['val_loss'][-1])\n"
   ]
  },
  {
   "cell_type": "markdown",
   "id": "sonic-anderson",
   "metadata": {},
   "source": [
    "# Cross validation"
   ]
  },
  {
   "cell_type": "code",
   "execution_count": 13,
   "id": "alike-memorabilia",
   "metadata": {},
   "outputs": [],
   "source": [
    "#define the k-fold cross validator\n",
    "kfold = KFold(n_splits=5, shuffle=True)"
   ]
  },
  {
   "cell_type": "code",
   "execution_count": 14,
   "id": "tracked-minute",
   "metadata": {},
   "outputs": [],
   "source": [
    "# Merge inputs and targets\n",
    "inputs = np.concatenate((X_train, X_test), axis=0)\n",
    "targets = np.concatenate((Y_train, Y_test), axis=0)"
   ]
  },
  {
   "cell_type": "code",
   "execution_count": 15,
   "id": "cardiac-retail",
   "metadata": {},
   "outputs": [
    {
     "name": "stdout",
     "output_type": "stream",
     "text": [
      "------------------------------------------------------------------------\n",
      "Training for fold 1 ...\n",
      "MAE is 0.7672233364546219\n",
      "MSE is 1.7299299240112305\n",
      "train final loss is 0.7679715474863194\n",
      "validation final loss is 0.7657149122015272\n",
      "------------------------------------------------------------------------\n",
      "Training for fold 2 ...\n",
      "MAE is 0.7792807833372354\n",
      "MSE is 1.8047910928726196\n",
      "train final loss is 0.7779847610013056\n",
      "validation final loss is 0.7785232772602432\n",
      "------------------------------------------------------------------------\n",
      "Training for fold 3 ...\n",
      "MAE is 0.8031953682373758\n",
      "MSE is 1.9512065649032593\n",
      "train final loss is 0.806016935679387\n",
      "validation final loss is 0.8052434068090156\n",
      "------------------------------------------------------------------------\n",
      "Training for fold 4 ...\n",
      "MAE is 0.7984100580812836\n",
      "MSE is 1.9676457643508911\n",
      "train final loss is 0.8009271754695126\n",
      "validation final loss is 0.7981337119272388\n",
      "------------------------------------------------------------------------\n",
      "Training for fold 5 ...\n",
      "MAE is 0.7497863475452656\n",
      "MSE is 1.798947811126709\n",
      "train final loss is 0.7503632335375838\n",
      "validation final loss is 0.7501547681356191\n"
     ]
    }
   ],
   "source": [
    "# K-fold Cross Validation model evaluation\n",
    "fold_no = 1\n",
    "acc_per_fold = []\n",
    "loss_per_fold = []\n",
    "for train, test in kfold.split(inputs, targets):\n",
    "  # Define the model architecture\n",
    "    model = Sequential()\n",
    "    model.add(Dense(6,kernel_initializer='normal', input_dim=5, activation ='relu'))\n",
    "    model.add(Dense(6, kernel_initializer='normal', activation ='relu'))\n",
    "    model.add(Dense(1,kernel_initializer='normal', activation ='linear'))\n",
    "    model.compile(loss='mean_absolute_error', optimizer='adam',metrics=['mse','mae'])    # Generate a print\n",
    "    print('------------------------------------------------------------------------')\n",
    "    print(f'Training for fold {fold_no} ...')\n",
    "\n",
    "    # Fit data to model\n",
    "    history = model.fit(inputs[train], targets[train],validation_split=0.2,\n",
    "                        batch_size=256,epochs=30,verbose=0)\n",
    "\n",
    "    # Generate generalization metrics\n",
    "    scores = model.evaluate(inputs[test], targets[test], verbose=0)\n",
    "#     print(f'Score for fold {fold_no}: {model.metrics_names[0]} of {scores[0]}; {model.metrics_names[1]} of {scores[1]*100}%')\n",
    "#     acc_per_fold.append(scores[1] * 100)\n",
    "#     loss_per_fold.append(scores[0])\n",
    "    print(\"MAE is\",scores[0])\n",
    "    print(\"MSE is\",scores[1])\n",
    "    print(\"train final loss is\",history.history['loss'][-1])\n",
    "    print(\"validation final loss is\",history.history['val_loss'][-1])\n",
    "\n",
    "    # Increase fold number\n",
    "    fold_no = fold_no + 1"
   ]
  },
  {
   "cell_type": "markdown",
   "id": "sustained-hostel",
   "metadata": {},
   "source": [
    "# Prediction"
   ]
  },
  {
   "cell_type": "code",
   "execution_count": 16,
   "id": "yellow-workplace",
   "metadata": {},
   "outputs": [],
   "source": [
    "#read a sample trajectory data that needs prediction\n",
    "trip = pd.read_csv(\"E:/SUMO/RUIXIAO/newChattanooganet/Data/output/reduced80traj6-7/Route1_trip151687020_065500.csv\")\n",
    "trip['speed']=trip['speed']*(0.01*3.6) \n",
    "#km/h\n",
    "trip['acceleration']=trip['acceleration']*(0.001) \n",
    "#m/s2\n",
    "\n",
    "#simulate datetime\n",
    "date = '2020-01-05T00:00:00.000Z' #utc format\n",
    "utc_dt = datetime.strptime(date, '%Y-%m-%dT%H:%M:%S.%fZ')\n",
    "# Convert UTC datetime to seconds since the Epoch\n",
    "timestamp0 = (utc_dt - datetime(1970, 1, 1)).total_seconds()\n",
    "trip['timestamp'] = trip['time_ms']/1000 + timestamp0\n",
    "trip['period']=(trip['timestamp']/300).apply(np.floor)\n",
    "trip['roadGrade'] = 0\n",
    "#merge with weather\n",
    "trip1 = pd.merge(trip,weather1,on=['period'],how='left')\n",
    "input2esti=trip1[['speed','acceleration','temperature','humidity','roadGrade']]\n"
   ]
  },
  {
   "cell_type": "code",
   "execution_count": 17,
   "id": "suited-acoustic",
   "metadata": {},
   "outputs": [
    {
     "data": {
      "image/png": "[encoded data removed]",
      "text/plain": [
       "<Figure size 432x288 with 1 Axes>"
      ]
     },
     "metadata": {
      "needs_background": "light"
     },
     "output_type": "display_data"
    }
   ],
   "source": [
    "#prdiction and plot results\n",
    "pre = model.predict(input2esti)\n",
    "\n",
    "tripf=pd.concat([trip,pd.DataFrame(pre,columns=['FuelRate'])], axis=1) \n",
    "\n",
    "fig, ax1 = plt.subplots(figsize=(6, 4))\n",
    "ax1.plot(tripf.index, tripf.FuelRate, color='blue', linewidth=1)\n",
    "ax1.set_xticks(tripf.index[::360])\n",
    "ax1.set_xticklabels(tripf.time[::360], rotation=45)\n",
    "plt.tight_layout(pad=4)\n",
    "plt.subplots_adjust(bottom=0.15)\n",
    "plt.xlabel(\"Time\",fontsize = 14)\n",
    "plt.ylabel(\"Fuel consumption rate (gal/h)\",fontsize = 14)\n",
    "plt.show()"
   ]
  },
  {
   "cell_type": "code",
   "execution_count": null,
   "id": "generic-implement",
   "metadata": {},
   "outputs": [],
   "source": []
  }
 ],
 "metadata": {
  "kernelspec": {
   "display_name": "Python 3",
   "language": "python",
   "name": "python3"
  },
  "language_info": {
   "codemirror_mode": {
    "name": "ipython",
    "version": 3
   },
   "file_extension": ".py",
   "mimetype": "text/x-python",
   "name": "python",
   "nbconvert_exporter": "python",
   "pygments_lexer": "ipython3",
   "version": "3.7.3"
  }
 },
 "nbformat": 4,
 "nbformat_minor": 5
}
