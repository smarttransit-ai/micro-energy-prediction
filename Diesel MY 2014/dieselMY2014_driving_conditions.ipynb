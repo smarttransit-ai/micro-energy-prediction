{
 "cells": [
  {
   "cell_type": "code",
   "execution_count": 37,
   "id": "verbal-trash",
   "metadata": {},
   "outputs": [],
   "source": [
    "import pandas as pd\n",
    "import keras\n",
    "from sklearn.metrics import mean_absolute_error\n",
    "from sklearn.metrics import mean_squared_error"
   ]
  },
  {
   "cell_type": "code",
   "execution_count": 2,
   "id": "funny-philippines",
   "metadata": {},
   "outputs": [],
   "source": [
    "#read data\n",
    "df = pd.read_csv('F:/Research/EnergyEstimation/ProcessedData/dieselMY2014.csv')"
   ]
  },
  {
   "cell_type": "code",
   "execution_count": 3,
   "id": "republican-orbit",
   "metadata": {},
   "outputs": [
    {
     "name": "stdout",
     "output_type": "stream",
     "text": [
      "WARNING:tensorflow:From C:\\ProgramData\\Anaconda3\\lib\\site-packages\\keras\\backend\\tensorflow_backend.py:422: The name tf.global_variables is deprecated. Please use tf.compat.v1.global_variables instead.\n",
      "\n"
     ]
    }
   ],
   "source": [
    "model = keras.models.load_model('F:/Research/EnergyEstimation/model/Diesel MY 2014/diesel_MY2014.model')"
   ]
  },
  {
   "cell_type": "code",
   "execution_count": 4,
   "id": "suspended-legislature",
   "metadata": {},
   "outputs": [
    {
     "data": {
      "text/html": [
       "<div>\n",
       "<style scoped>\n",
       "    .dataframe tbody tr th:only-of-type {\n",
       "        vertical-align: middle;\n",
       "    }\n",
       "\n",
       "    .dataframe tbody tr th {\n",
       "        vertical-align: top;\n",
       "    }\n",
       "\n",
       "    .dataframe thead th {\n",
       "        text-align: right;\n",
       "    }\n",
       "</style>\n",
       "<table border=\"1\" class=\"dataframe\">\n",
       "  <thead>\n",
       "    <tr style=\"text-align: right;\">\n",
       "      <th></th>\n",
       "      <th>timeuseastern</th>\n",
       "      <th>speed</th>\n",
       "      <th>acceleration</th>\n",
       "      <th>temperature</th>\n",
       "      <th>humidity</th>\n",
       "      <th>roadGrade</th>\n",
       "      <th>FuelRate</th>\n",
       "    </tr>\n",
       "  </thead>\n",
       "  <tbody>\n",
       "    <tr>\n",
       "      <th>0</th>\n",
       "      <td>2019-10-01 00:00:06.000</td>\n",
       "      <td>11.547014</td>\n",
       "      <td>1.532002</td>\n",
       "      <td>77.71</td>\n",
       "      <td>0.64</td>\n",
       "      <td>0.000000</td>\n",
       "      <td>6.301</td>\n",
       "    </tr>\n",
       "    <tr>\n",
       "      <th>1</th>\n",
       "      <td>2019-10-01 00:00:06.000</td>\n",
       "      <td>11.547014</td>\n",
       "      <td>0.000000</td>\n",
       "      <td>77.71</td>\n",
       "      <td>0.64</td>\n",
       "      <td>0.000000</td>\n",
       "      <td>6.301</td>\n",
       "    </tr>\n",
       "    <tr>\n",
       "      <th>2</th>\n",
       "      <td>2019-10-01 00:00:07.000</td>\n",
       "      <td>15.531740</td>\n",
       "      <td>1.106868</td>\n",
       "      <td>77.71</td>\n",
       "      <td>0.64</td>\n",
       "      <td>0.000000</td>\n",
       "      <td>7.450</td>\n",
       "    </tr>\n",
       "    <tr>\n",
       "      <th>3</th>\n",
       "      <td>2019-10-01 00:00:07.000</td>\n",
       "      <td>15.531740</td>\n",
       "      <td>0.000000</td>\n",
       "      <td>77.71</td>\n",
       "      <td>0.64</td>\n",
       "      <td>-0.006778</td>\n",
       "      <td>7.450</td>\n",
       "    </tr>\n",
       "    <tr>\n",
       "      <th>4</th>\n",
       "      <td>2019-10-01 00:00:08.000</td>\n",
       "      <td>19.234832</td>\n",
       "      <td>1.028636</td>\n",
       "      <td>77.71</td>\n",
       "      <td>0.64</td>\n",
       "      <td>-0.013557</td>\n",
       "      <td>8.784</td>\n",
       "    </tr>\n",
       "  </tbody>\n",
       "</table>\n",
       "</div>"
      ],
      "text/plain": [
       "             timeuseastern      speed  acceleration  temperature  humidity  \\\n",
       "0  2019-10-01 00:00:06.000  11.547014      1.532002        77.71      0.64   \n",
       "1  2019-10-01 00:00:06.000  11.547014      0.000000        77.71      0.64   \n",
       "2  2019-10-01 00:00:07.000  15.531740      1.106868        77.71      0.64   \n",
       "3  2019-10-01 00:00:07.000  15.531740      0.000000        77.71      0.64   \n",
       "4  2019-10-01 00:00:08.000  19.234832      1.028636        77.71      0.64   \n",
       "\n",
       "   roadGrade  FuelRate  \n",
       "0   0.000000     6.301  \n",
       "1   0.000000     6.301  \n",
       "2   0.000000     7.450  \n",
       "3  -0.006778     7.450  \n",
       "4  -0.013557     8.784  "
      ]
     },
     "execution_count": 4,
     "metadata": {},
     "output_type": "execute_result"
    }
   ],
   "source": [
    "df.head()"
   ]
  },
  {
   "cell_type": "markdown",
   "id": "higher-instruction",
   "metadata": {},
   "source": [
    "# Spring peak hour"
   ]
  },
  {
   "cell_type": "code",
   "execution_count": 5,
   "id": "twenty-kitty",
   "metadata": {},
   "outputs": [],
   "source": [
    "spp = df.loc[(df['timeuseastern']>'2020-04-17 08:00:00.000')&(df['timeuseastern']<'2020-04-17 08:30:00.000')]"
   ]
  },
  {
   "cell_type": "code",
   "execution_count": 38,
   "id": "included-negative",
   "metadata": {},
   "outputs": [],
   "source": [
    "spp.to_csv('F:/Research/EnergyEstimation/DrivingPatterns/dieselMY2014_Spring_peak.csv',index=False)"
   ]
  },
  {
   "cell_type": "code",
   "execution_count": 7,
   "id": "sound-magnet",
   "metadata": {},
   "outputs": [],
   "source": [
    "#prdiction \n",
    "Y_test = spp['FuelRate']\n",
    "X_test = spp[['speed','acceleration','temperature','humidity','roadGrade']]\n",
    "pred = model.predict(X_test)"
   ]
  },
  {
   "cell_type": "code",
   "execution_count": 8,
   "id": "historic-valuable",
   "metadata": {},
   "outputs": [
    {
     "name": "stdout",
     "output_type": "stream",
     "text": [
      "MAE= 0.9447504585636936\n",
      "MSE= 1.1769386916029103\n"
     ]
    }
   ],
   "source": [
    "#error\n",
    "print('MAE=',mean_absolute_error(Y_test, pred))\n",
    "print('MSE=',mean_squared_error(Y_test, pred))"
   ]
  },
  {
   "cell_type": "markdown",
   "id": "stone-lucas",
   "metadata": {},
   "source": [
    "# Spring off peak"
   ]
  },
  {
   "cell_type": "code",
   "execution_count": 9,
   "id": "short-default",
   "metadata": {},
   "outputs": [],
   "source": [
    "spo = df.loc[(df['timeuseastern']>'2020-04-23 10:00:00.000')&(df['timeuseastern']<'2020-04-23 10:30:00.000')]"
   ]
  },
  {
   "cell_type": "code",
   "execution_count": 39,
   "id": "occupied-madrid",
   "metadata": {},
   "outputs": [],
   "source": [
    "spo.to_csv('F:/Research/EnergyEstimation/DrivingPatterns/dieselMY2014_Spring_offpeak.csv',index=False)"
   ]
  },
  {
   "cell_type": "code",
   "execution_count": 11,
   "id": "falling-optimization",
   "metadata": {},
   "outputs": [],
   "source": [
    "#prdiction \n",
    "Y_test = spo['FuelRate']\n",
    "X_test = spo[['speed','acceleration','temperature','humidity','roadGrade']]\n",
    "pred = model.predict(X_test)"
   ]
  },
  {
   "cell_type": "code",
   "execution_count": 12,
   "id": "automotive-smoke",
   "metadata": {},
   "outputs": [
    {
     "name": "stdout",
     "output_type": "stream",
     "text": [
      "MAE= 0.9139593383052602\n",
      "MSE= 2.204032064192762\n"
     ]
    }
   ],
   "source": [
    "#error\n",
    "print('MAE=',mean_absolute_error(Y_test, pred))\n",
    "print('MSE=',mean_squared_error(Y_test, pred))"
   ]
  },
  {
   "cell_type": "markdown",
   "id": "novel-agriculture",
   "metadata": {},
   "source": [
    "# Summer peak hour"
   ]
  },
  {
   "cell_type": "code",
   "execution_count": 13,
   "id": "distinct-monster",
   "metadata": {},
   "outputs": [],
   "source": [
    "sup = df.loc[(df['timeuseastern']>'2020-07-15 08:00:00.000')&(df['timeuseastern']<'2020-07-15 08:30:00.000')]"
   ]
  },
  {
   "cell_type": "code",
   "execution_count": 40,
   "id": "intellectual-plaza",
   "metadata": {},
   "outputs": [],
   "source": [
    "sup.to_csv('F:/Research/EnergyEstimation/DrivingPatterns/dieselMY2014_Summer_peak.csv',index=False)"
   ]
  },
  {
   "cell_type": "code",
   "execution_count": 15,
   "id": "complicated-george",
   "metadata": {},
   "outputs": [],
   "source": [
    "#prdiction \n",
    "Y_test = sup['FuelRate']\n",
    "X_test = sup[['speed','acceleration','temperature','humidity','roadGrade']]\n",
    "pred = model.predict(X_test)"
   ]
  },
  {
   "cell_type": "code",
   "execution_count": 16,
   "id": "israeli-house",
   "metadata": {},
   "outputs": [
    {
     "name": "stdout",
     "output_type": "stream",
     "text": [
      "MAE= 0.8037020860353796\n",
      "MSE= 1.6565449514696573\n"
     ]
    }
   ],
   "source": [
    "#error\n",
    "print('MAE=',mean_absolute_error(Y_test, pred))\n",
    "print('MSE=',mean_squared_error(Y_test, pred))"
   ]
  },
  {
   "cell_type": "markdown",
   "id": "encouraging-brick",
   "metadata": {},
   "source": [
    "# Summer off peak"
   ]
  },
  {
   "cell_type": "code",
   "execution_count": 17,
   "id": "neither-population",
   "metadata": {},
   "outputs": [],
   "source": [
    "suo = df.loc[(df['timeuseastern']>'2020-07-15 10:00:00.000')&(df['timeuseastern']<'2020-07-15 10:30:00.000')]"
   ]
  },
  {
   "cell_type": "code",
   "execution_count": 41,
   "id": "precise-conspiracy",
   "metadata": {},
   "outputs": [],
   "source": [
    "suo.to_csv('F:/Research/EnergyEstimation/DrivingPatterns/dieselMY2014_Summer_offpeak.csv',index=False)"
   ]
  },
  {
   "cell_type": "code",
   "execution_count": 19,
   "id": "improving-river",
   "metadata": {},
   "outputs": [],
   "source": [
    "#prdiction \n",
    "Y_test = suo['FuelRate']\n",
    "X_test = suo[['speed','acceleration','temperature','humidity','roadGrade']]\n",
    "pred = model.predict(X_test)"
   ]
  },
  {
   "cell_type": "code",
   "execution_count": 20,
   "id": "heated-investment",
   "metadata": {},
   "outputs": [
    {
     "name": "stdout",
     "output_type": "stream",
     "text": [
      "MAE= 0.6415141769281782\n",
      "MSE= 1.137597960789751\n"
     ]
    }
   ],
   "source": [
    "#error\n",
    "print('MAE=',mean_absolute_error(Y_test, pred))\n",
    "print('MSE=',mean_squared_error(Y_test, pred))"
   ]
  },
  {
   "cell_type": "markdown",
   "id": "matched-rwanda",
   "metadata": {},
   "source": [
    "# Fall peak hour"
   ]
  },
  {
   "cell_type": "code",
   "execution_count": 21,
   "id": "herbal-suffering",
   "metadata": {},
   "outputs": [],
   "source": [
    "fap = df.loc[(df['timeuseastern']>'2020-10-02 08:00:00.000')&(df['timeuseastern']<'2020-10-02 08:30:00.000')]"
   ]
  },
  {
   "cell_type": "code",
   "execution_count": 42,
   "id": "afraid-gabriel",
   "metadata": {},
   "outputs": [],
   "source": [
    "fap.to_csv('F:/Research/EnergyEstimation/DrivingPatterns/dieselMY2014_Fall_peak.csv',index=False)"
   ]
  },
  {
   "cell_type": "code",
   "execution_count": 23,
   "id": "republican-moment",
   "metadata": {},
   "outputs": [],
   "source": [
    "#prdiction \n",
    "Y_test = fap['FuelRate']\n",
    "X_test = fap[['speed','acceleration','temperature','humidity','roadGrade']]\n",
    "pred = model.predict(X_test)"
   ]
  },
  {
   "cell_type": "code",
   "execution_count": 24,
   "id": "solid-shower",
   "metadata": {},
   "outputs": [
    {
     "name": "stdout",
     "output_type": "stream",
     "text": [
      "MAE= 0.8977082725602872\n",
      "MSE= 2.0181940889389525\n"
     ]
    }
   ],
   "source": [
    "#error\n",
    "print('MAE=',mean_absolute_error(Y_test, pred))\n",
    "print('MSE=',mean_squared_error(Y_test, pred))"
   ]
  },
  {
   "cell_type": "markdown",
   "id": "responsible-sherman",
   "metadata": {},
   "source": [
    "# Fall off peak"
   ]
  },
  {
   "cell_type": "code",
   "execution_count": 25,
   "id": "specific-project",
   "metadata": {},
   "outputs": [],
   "source": [
    "fao = df.loc[(df['timeuseastern']>'2020-10-02 12:00:00.000')&(df['timeuseastern']<'2020-10-02 12:30:00.000')]"
   ]
  },
  {
   "cell_type": "code",
   "execution_count": 43,
   "id": "pressing-reservation",
   "metadata": {},
   "outputs": [],
   "source": [
    "fao.to_csv('F:/Research/EnergyEstimation/DrivingPatterns/dieselMY2014_Fall_offpeak.csv',index=False)"
   ]
  },
  {
   "cell_type": "code",
   "execution_count": 27,
   "id": "welsh-consideration",
   "metadata": {},
   "outputs": [],
   "source": [
    "#prdiction \n",
    "Y_test = fao['FuelRate']\n",
    "X_test = fao[['speed','acceleration','temperature','humidity','roadGrade']]\n",
    "pred = model.predict(X_test)"
   ]
  },
  {
   "cell_type": "code",
   "execution_count": 28,
   "id": "homeless-singles",
   "metadata": {},
   "outputs": [
    {
     "name": "stdout",
     "output_type": "stream",
     "text": [
      "MAE= 0.818533707172424\n",
      "MSE= 1.6626356277441838\n"
     ]
    }
   ],
   "source": [
    "#error\n",
    "print('MAE=',mean_absolute_error(Y_test, pred))\n",
    "print('MSE=',mean_squared_error(Y_test, pred))"
   ]
  },
  {
   "cell_type": "markdown",
   "id": "current-india",
   "metadata": {},
   "source": [
    "# Winter peak hour"
   ]
  },
  {
   "cell_type": "code",
   "execution_count": 29,
   "id": "valued-terminology",
   "metadata": {},
   "outputs": [],
   "source": [
    "wip = df.loc[(df['timeuseastern']>'2019-12-02 08:00:00.000')&(df['timeuseastern']<'2019-12-02 08:30:00.000')]"
   ]
  },
  {
   "cell_type": "code",
   "execution_count": 44,
   "id": "monthly-notion",
   "metadata": {},
   "outputs": [],
   "source": [
    "wip.to_csv('F:/Research/EnergyEstimation/DrivingPatterns/dieselMY2014_Winter_peak.csv',index=False)"
   ]
  },
  {
   "cell_type": "code",
   "execution_count": 31,
   "id": "dependent-cutting",
   "metadata": {},
   "outputs": [],
   "source": [
    "#prdiction \n",
    "Y_test = wip['FuelRate']\n",
    "X_test = wip[['speed','acceleration','temperature','humidity','roadGrade']]\n",
    "pred = model.predict(X_test)"
   ]
  },
  {
   "cell_type": "code",
   "execution_count": 32,
   "id": "injured-sailing",
   "metadata": {},
   "outputs": [
    {
     "name": "stdout",
     "output_type": "stream",
     "text": [
      "MAE= 0.7798400184651625\n",
      "MSE= 1.8978664747665415\n"
     ]
    }
   ],
   "source": [
    "#error\n",
    "print('MAE=',mean_absolute_error(Y_test, pred))\n",
    "print('MSE=',mean_squared_error(Y_test, pred))"
   ]
  },
  {
   "cell_type": "markdown",
   "id": "according-immune",
   "metadata": {},
   "source": [
    "# Winter off peak"
   ]
  },
  {
   "cell_type": "code",
   "execution_count": 33,
   "id": "corrected-planner",
   "metadata": {},
   "outputs": [],
   "source": [
    "wio = df.loc[(df['timeuseastern']>'2019-12-02 10:00:00.000')&(df['timeuseastern']<'2019-12-02 10:30:00.000')]"
   ]
  },
  {
   "cell_type": "code",
   "execution_count": 45,
   "id": "aware-settlement",
   "metadata": {},
   "outputs": [],
   "source": [
    "wio.to_csv('F:/Research/EnergyEstimation/DrivingPatterns/dieselMY2014_Winter_offpeak.csv',index=False)"
   ]
  },
  {
   "cell_type": "code",
   "execution_count": 35,
   "id": "computational-royal",
   "metadata": {},
   "outputs": [],
   "source": [
    "#prdiction \n",
    "Y_test = wio['FuelRate']\n",
    "X_test = wio[['speed','acceleration','temperature','humidity','roadGrade']]\n",
    "pred = model.predict(X_test)"
   ]
  },
  {
   "cell_type": "code",
   "execution_count": 36,
   "id": "declared-delhi",
   "metadata": {},
   "outputs": [
    {
     "name": "stdout",
     "output_type": "stream",
     "text": [
      "MAE= 0.7789307073909306\n",
      "MSE= 1.8251623890266262\n"
     ]
    }
   ],
   "source": [
    "#error\n",
    "print('MAE=',mean_absolute_error(Y_test, pred))\n",
    "print('MSE=',mean_squared_error(Y_test, pred))"
   ]
  }
 ],
 "metadata": {
  "kernelspec": {
   "display_name": "Python 3",
   "language": "python",
   "name": "python3"
  },
  "language_info": {
   "codemirror_mode": {
    "name": "ipython",
    "version": 3
   },
   "file_extension": ".py",
   "mimetype": "text/x-python",
   "name": "python",
   "nbconvert_exporter": "python",
   "pygments_lexer": "ipython3",
   "version": "3.7.3"
  }
 },
 "nbformat": 4,
 "nbformat_minor": 5
}
