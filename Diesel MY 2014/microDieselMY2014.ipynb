{
  "nbformat": 4,
  "nbformat_minor": 5,
  "metadata": {
    "kernelspec": {
      "display_name": "Python 3",
      "language": "python",
      "name": "python3"
    },
    "language_info": {
      "codemirror_mode": {
        "name": "ipython",
        "version": 3
      },
      "file_extension": ".py",
      "mimetype": "text/x-python",
      "name": "python",
      "nbconvert_exporter": "python",
      "pygments_lexer": "ipython3",
      "version": "3.7.3"
    },
    "colab": {
      "name": "microDieselMY2014.ipynb",
      "provenance": [],
      "include_colab_link": true
    }
  },
  "cells": [
    {
      "cell_type": "markdown",
      "metadata": {
        "id": "view-in-github",
        "colab_type": "text"
      },
      "source": [
        "<a href=\"https://colab.research.google.com/github/smarttransit-ai/micro-energy-prediction/blob/main/Diesel%20MY%202014/microDieselMY2014.ipynb\" target=\"_parent\"><img src=\"https://colab.research.google.com/assets/colab-badge.svg\" alt=\"Open In Colab\"/></a>"
      ]
    },
    {
      "cell_type": "code",
      "metadata": {
        "id": "filled-joseph"
      },
      "source": [
        "import scipy\n",
        "import statsmodels\n",
        "import sklearn\n",
        "import theano\n",
        "import tensorflow\n",
        "import keras\n",
        "import glob\n",
        "import os\n",
        "import numpy as np\n",
        "import pandas as pd\n",
        "import math\n",
        "from keras.models import Sequential\n",
        "from keras.layers import Dense\n",
        "from sklearn.model_selection import KFold\n",
        "from sklearn.model_selection import train_test_split\n",
        "from sklearn.metrics import mean_absolute_error\n",
        "from sklearn.metrics import mean_squared_error\n",
        "import matplotlib.pyplot as plt\n",
        "import requests\n",
        "from datetime import datetime\n",
        "from datetime import timedelta\n",
        "import time\n",
        "from timeit import default_timer as timer\n",
        "import statistics\n",
        "from dask.distributed import Client\n",
        "from dask import dataframe as dd\n"
      ],
      "id": "filled-joseph",
      "execution_count": null,
      "outputs": []
    },
    {
      "cell_type": "code",
      "metadata": {
        "id": "EqmT-wkubEk3"
      },
      "source": [
        "#it is required that you move the raw data from the dropbox location to the Data_Folder\n",
        "Data_Folder=''"
      ],
      "id": "EqmT-wkubEk3",
      "execution_count": null,
      "outputs": []
    },
    {
      "cell_type": "markdown",
      "metadata": {
        "id": "statistical-baghdad"
      },
      "source": [
        "# Data preparation"
      ],
      "id": "statistical-baghdad"
    },
    {
      "cell_type": "code",
      "metadata": {
        "id": "collected-arena"
      },
      "source": [
        "#read weather data\n",
        "weather1 = pd.read_csv(f'{Data_Folder}/darksky_chattanooga.csv', index_col=False)\n",
        "weather1['period'] = (weather1['time']/300).apply(np.floor)\n",
        "weather1 = weather1[['humidity','temperature','period']]"
      ],
      "id": "collected-arena",
      "execution_count": null,
      "outputs": []
    },
    {
      "cell_type": "code",
      "metadata": {
        "id": "computational-procedure"
      },
      "source": [
        "weather2 = pd.read_pickle(r'F:/Research/weather/weatherbit_1_hr_01-01-2017_06-06-2020.pk')\n",
        "weather2 = weather2.loc[weather2['station_id']=='723240-13882']\n",
        "weather2['period1']=(weather2['ts']/3600).apply(np.floor)\n",
        "weather2 = weather2[['rh','temp','period1']]\n",
        "weather2['temp'] = 32+weather2['temp']*9/5 #convert celsius to fahrenheit"
      ],
      "id": "computational-procedure",
      "execution_count": null,
      "outputs": []
    },
    {
      "cell_type": "code",
      "metadata": {
        "id": "pretty-wealth",
        "outputId": "efaa9a50-7b22-444f-e629-f266981a367b"
      },
      "source": [
        "client = Client(n_workers=1, threads_per_worker=4, processes=False, memory_limit='10GB') #note the parameters"
      ],
      "id": "pretty-wealth",
      "execution_count": null,
      "outputs": [
        {
          "output_type": "stream",
          "text": [
            "C:\\ProgramData\\Anaconda3\\lib\\site-packages\\distributed\\node.py:155: UserWarning: Port 8787 is already in use.\n",
            "Perhaps you already have a cluster running?\n",
            "Hosting the HTTP server on port 64607 instead\n",
            "  http_address[\"port\"], self.http_server.port\n"
          ],
          "name": "stderr"
        }
      ]
    },
    {
      "cell_type": "code",
      "metadata": {
        "id": "noticed-confidentiality"
      },
      "source": [
        "vehdata = dd.read_parquet('F:/Research/viriciti/gillelevationfinal',engine=\"pyarrow\")"
      ],
      "id": "noticed-confidentiality",
      "execution_count": null,
      "outputs": []
    },
    {
      "cell_type": "code",
      "metadata": {
        "id": "fossil-captain"
      },
      "source": [
        "veh = vehdata.loc[vehdata['name'] == 'Gillig #147']\n",
        "veh = veh.compute()"
      ],
      "id": "fossil-captain",
      "execution_count": null,
      "outputs": []
    },
    {
      "cell_type": "code",
      "metadata": {
        "id": "intermediate-cameroon",
        "outputId": "58aa1c68-5164-4503-99b2-4afec1acfc20"
      },
      "source": [
        "veh.columns"
      ],
      "id": "intermediate-cameroon",
      "execution_count": null,
      "outputs": [
        {
          "output_type": "execute_result",
          "data": {
            "text/plain": [
              "Index(['unixtimestamp', 'isotime', 'timeuseastern', 'name', 'fuelused',\n",
              "       'distancedriven', 'acceleratorpedalpercent', 'ambientairtempf',\n",
              "       'galperhour', 'rpm', 'vehiclespeed', 'altitude', 'latitude',\n",
              "       'longitude', 'gpsspeed', 'hour', 'minute', 'elevation', 'month',\n",
              "       'year'],\n",
              "      dtype='object')"
            ]
          },
          "metadata": {
            "tags": []
          },
          "execution_count": 8
        }
      ]
    },
    {
      "cell_type": "code",
      "metadata": {
        "id": "numerical-edgar"
      },
      "source": [
        "veh['period']=(veh['unixtimestamp']/300000).apply(np.floor)\n",
        "veh['period1']=(veh['unixtimestamp']/3600000).apply(np.floor)"
      ],
      "id": "numerical-edgar",
      "execution_count": null,
      "outputs": []
    },
    {
      "cell_type": "code",
      "metadata": {
        "id": "broad-hybrid"
      },
      "source": [
        "#merge data with weather1\n",
        "dt = pd.merge(veh,weather1,on=['period'],how='left')\n",
        "#merge data with weather2\n",
        "df = pd.merge(dt,weather2,on=['period1'],how='left')"
      ],
      "id": "broad-hybrid",
      "execution_count": null,
      "outputs": []
    },
    {
      "cell_type": "code",
      "metadata": {
        "id": "applicable-intro",
        "outputId": "1725a738-3996-47ec-b328-125f6e32acbd"
      },
      "source": [
        "df['humidity'] = df['humidity'].fillna(df['rh'])\n",
        "df['temperature'] = df['temperature'].fillna(df['temp'])\n",
        "df = df.dropna(subset=['vehiclespeed'])\n",
        "df = df.sort_values(['unixtimestamp'])\n",
        "print(len(df))\n",
        "df.columns"
      ],
      "id": "applicable-intro",
      "execution_count": null,
      "outputs": [
        {
          "output_type": "stream",
          "text": [
            "5174951\n"
          ],
          "name": "stdout"
        },
        {
          "output_type": "execute_result",
          "data": {
            "text/plain": [
              "Index(['unixtimestamp', 'isotime', 'timeuseastern', 'name', 'fuelused',\n",
              "       'distancedriven', 'acceleratorpedalpercent', 'ambientairtempf',\n",
              "       'galperhour', 'rpm', 'vehiclespeed', 'altitude', 'latitude',\n",
              "       'longitude', 'gpsspeed', 'hour', 'minute', 'elevation', 'month', 'year',\n",
              "       'period', 'period1', 'humidity', 'temperature', 'rh', 'temp'],\n",
              "      dtype='object')"
            ]
          },
          "metadata": {
            "tags": []
          },
          "execution_count": 57
        }
      ]
    },
    {
      "cell_type": "code",
      "metadata": {
        "id": "right-weather",
        "outputId": "48929d82-1db6-498d-e909-39ba2045dac4"
      },
      "source": [
        "#process data\n",
        "df['elevdiff']=df['elevation'].diff() #ft\n",
        "df['elevdiff']=df['elevdiff']*0.000189394 #convert ft to mile\n",
        "df['distdiff']=df['distancedriven'].diff()\n",
        "df['roadGrade']=df['elevdiff']/df['distdiff']\n",
        "df['roadGrade']=df['roadGrade'].replace(np.inf, 0)\n",
        "df['roadGrade']=df['roadGrade'].replace(-np.inf, 0)\n",
        "df['speed'] = df['vehiclespeed']*1.60934 #convert to km/h\n",
        "#interpolate if raw data is unfilled\n",
        "FuelRate = df['galperhour']\n",
        "FuelRate = FuelRate.interpolate()\n",
        "df['FuelRate'] = FuelRate\n",
        "Speed = df['speed']\n",
        "Speed = Speed.interpolate()\n",
        "df['speed'] = Speed\n",
        "#calculate acceleration\n",
        "speedms = df['speed']*1000/3600\n",
        "df['acceleration']=speedms.diff() #unit: m/s^2\n",
        "# df = df.drop(df[df.FuelRate == 0].index)\n",
        "df=df[['speed','acceleration','temperature','humidity','roadGrade','FuelRate',]]\n",
        "df=df.interpolate(method='linear', limit_direction='forward')\n",
        "df=df.dropna()\n",
        "print(len(df))"
      ],
      "id": "right-weather",
      "execution_count": null,
      "outputs": [
        {
          "output_type": "stream",
          "text": [
            "5174947\n"
          ],
          "name": "stdout"
        }
      ]
    },
    {
      "cell_type": "code",
      "metadata": {
        "id": "boring-philip",
        "outputId": "ca9b3def-a400-437c-f2b1-269f5179b64a"
      },
      "source": [
        "df.head()"
      ],
      "id": "boring-philip",
      "execution_count": null,
      "outputs": [
        {
          "output_type": "execute_result",
          "data": {
            "text/html": [
              "<div>\n",
              "<style scoped>\n",
              "    .dataframe tbody tr th:only-of-type {\n",
              "        vertical-align: middle;\n",
              "    }\n",
              "\n",
              "    .dataframe tbody tr th {\n",
              "        vertical-align: top;\n",
              "    }\n",
              "\n",
              "    .dataframe thead th {\n",
              "        text-align: right;\n",
              "    }\n",
              "</style>\n",
              "<table border=\"1\" class=\"dataframe\">\n",
              "  <thead>\n",
              "    <tr style=\"text-align: right;\">\n",
              "      <th></th>\n",
              "      <th>speed</th>\n",
              "      <th>acceleration</th>\n",
              "      <th>temperature</th>\n",
              "      <th>humidity</th>\n",
              "      <th>roadGrade</th>\n",
              "      <th>FuelRate</th>\n",
              "    </tr>\n",
              "  </thead>\n",
              "  <tbody>\n",
              "    <tr>\n",
              "      <th>0</th>\n",
              "      <td>0.0</td>\n",
              "      <td>0.0</td>\n",
              "      <td>77.71</td>\n",
              "      <td>0.64</td>\n",
              "      <td>0.0</td>\n",
              "      <td>1.004</td>\n",
              "    </tr>\n",
              "    <tr>\n",
              "      <th>1</th>\n",
              "      <td>0.0</td>\n",
              "      <td>0.0</td>\n",
              "      <td>77.71</td>\n",
              "      <td>0.64</td>\n",
              "      <td>0.0</td>\n",
              "      <td>1.004</td>\n",
              "    </tr>\n",
              "    <tr>\n",
              "      <th>2</th>\n",
              "      <td>0.0</td>\n",
              "      <td>0.0</td>\n",
              "      <td>77.71</td>\n",
              "      <td>0.64</td>\n",
              "      <td>0.0</td>\n",
              "      <td>1.004</td>\n",
              "    </tr>\n",
              "    <tr>\n",
              "      <th>3</th>\n",
              "      <td>0.0</td>\n",
              "      <td>0.0</td>\n",
              "      <td>77.71</td>\n",
              "      <td>0.64</td>\n",
              "      <td>0.0</td>\n",
              "      <td>1.004</td>\n",
              "    </tr>\n",
              "    <tr>\n",
              "      <th>4</th>\n",
              "      <td>0.0</td>\n",
              "      <td>0.0</td>\n",
              "      <td>77.71</td>\n",
              "      <td>0.64</td>\n",
              "      <td>0.0</td>\n",
              "      <td>1.017</td>\n",
              "    </tr>\n",
              "  </tbody>\n",
              "</table>\n",
              "</div>"
            ],
            "text/plain": [
              "   speed  acceleration  temperature  humidity  roadGrade  FuelRate\n",
              "0    0.0           0.0        77.71      0.64        0.0     1.004\n",
              "1    0.0           0.0        77.71      0.64        0.0     1.004\n",
              "2    0.0           0.0        77.71      0.64        0.0     1.004\n",
              "3    0.0           0.0        77.71      0.64        0.0     1.004\n",
              "4    0.0           0.0        77.71      0.64        0.0     1.017"
            ]
          },
          "metadata": {
            "tags": []
          },
          "execution_count": 61
        }
      ]
    },
    {
      "cell_type": "code",
      "metadata": {
        "id": "flush-oakland"
      },
      "source": [
        "#leave out the final test datasets\n",
        "final_train, final_test = train_test_split(df,random_state=6,test_size=0.1)\n",
        "#spilt the remaining dataset\n",
        "train, test = train_test_split(final_train,random_state=6,test_size=0.3)"
      ],
      "id": "flush-oakland",
      "execution_count": null,
      "outputs": []
    },
    {
      "cell_type": "code",
      "metadata": {
        "id": "antique-repository"
      },
      "source": [
        "Y_train = train['FuelRate'] #unit: gal/h\n",
        "X_train = train[['speed','acceleration','temperature','humidity','roadGrade']]\n",
        "Y_test = test['FuelRate']\n",
        "X_test = test[['speed','acceleration','temperature','humidity','roadGrade']]"
      ],
      "id": "antique-repository",
      "execution_count": null,
      "outputs": []
    },
    {
      "cell_type": "code",
      "metadata": {
        "id": "uniform-pavilion",
        "outputId": "68c31b9b-9790-4e6a-9426-157140e578a9"
      },
      "source": [
        "print(len(train))"
      ],
      "id": "uniform-pavilion",
      "execution_count": null,
      "outputs": [
        {
          "output_type": "stream",
          "text": [
            "3260216\n"
          ],
          "name": "stdout"
        }
      ]
    },
    {
      "cell_type": "markdown",
      "metadata": {
        "id": "experienced-museum"
      },
      "source": [
        "# Model selection based on k-fold cross validation"
      ],
      "id": "experienced-museum"
    },
    {
      "cell_type": "code",
      "metadata": {
        "id": "married-approach"
      },
      "source": [
        "inputs = np.concatenate((X_train, X_test), axis=0)\n",
        "targets = np.concatenate((Y_train, Y_test), axis=0)"
      ],
      "id": "married-approach",
      "execution_count": null,
      "outputs": []
    },
    {
      "cell_type": "code",
      "metadata": {
        "id": "sitting-great"
      },
      "source": [
        "dim = df.shape[1]-1\n",
        "N_upper = dim*2+1 #the upper limit for the number of neurons in a hidden layer\n",
        "actlist = ['relu','sigmoid','tanh']"
      ],
      "id": "sitting-great",
      "execution_count": null,
      "outputs": []
    },
    {
      "cell_type": "code",
      "metadata": {
        "id": "terminal-queens",
        "outputId": "cf8711b0-7b04-4260-df59-1018d2d6da5c"
      },
      "source": [
        "perform = {}\n",
        "num_neurons = dim\n",
        "while num_neurons <= N_upper:\n",
        "    print('-------------------------------------------------------')\n",
        "    for act_fun1 in actlist:\n",
        "        for act_fun2 in actlist:\n",
        "            #define the k-fold cross validator\n",
        "            kfold = KFold(n_splits=5, shuffle=True)\n",
        "            # K-fold Cross Validation model evaluation\n",
        "            fold_no = 1\n",
        "            score_per_fold = []\n",
        "            for train, test in kfold.split(inputs, targets):\n",
        "                # Define the model architecture\n",
        "                model = Sequential()\n",
        "                model.add(Dense(num_neurons, kernel_initializer='normal', input_dim=dim, activation = act_fun1))\n",
        "                model.add(Dense(num_neurons, kernel_initializer='normal', activation = act_fun2))\n",
        "                model.add(Dense(1,kernel_initializer='normal', activation ='linear'))\n",
        "                model.compile(loss='mean_absolute_error', optimizer='adam')   \n",
        "                # Fit data to model\n",
        "                history = model.fit(inputs[train], targets[train],batch_size=50000,epochs=30,verbose=0)\n",
        "                # Generate generalization metrics\n",
        "                score = model.evaluate(inputs[test], targets[test], verbose=0)        \n",
        "                score_per_fold.append(score)\n",
        "                # Increase fold number\n",
        "                fold_no = fold_no + 1\n",
        "            mae_mean = np.mean(score_per_fold)\n",
        "            mae_std = np.std(score_per_fold)\n",
        "            perform[num_neurons, act_fun1, act_fun2] = mae_mean+mae_std\n",
        "            print('> neurons=%d, act_fun1=%s, act_fun2=%s: score = %.3f(%.3f)' % (num_neurons, act_fun1, act_fun2, mae_mean, mae_std))\n",
        "    num_neurons = num_neurons + 1"
      ],
      "id": "terminal-queens",
      "execution_count": null,
      "outputs": [
        {
          "output_type": "stream",
          "text": [
            "-------------------------------------------------------\n",
            "> neurons=5, act_fun1=relu, act_fun2=relu: score = 0.988(0.017)\n",
            "> neurons=5, act_fun1=relu, act_fun2=sigmoid: score = 1.085(0.009)\n",
            "> neurons=5, act_fun1=relu, act_fun2=tanh: score = 1.028(0.013)\n",
            "> neurons=5, act_fun1=sigmoid, act_fun2=relu: score = 1.117(0.217)\n",
            "> neurons=5, act_fun1=sigmoid, act_fun2=sigmoid: score = 1.119(0.026)\n",
            "> neurons=5, act_fun1=sigmoid, act_fun2=tanh: score = 1.052(0.006)\n",
            "> neurons=5, act_fun1=tanh, act_fun2=relu: score = 0.985(0.015)\n",
            "> neurons=5, act_fun1=tanh, act_fun2=sigmoid: score = 1.058(0.007)\n",
            "> neurons=5, act_fun1=tanh, act_fun2=tanh: score = 1.046(0.015)\n",
            "-------------------------------------------------------\n",
            "> neurons=6, act_fun1=relu, act_fun2=relu: score = 0.973(0.018)\n",
            "> neurons=6, act_fun1=relu, act_fun2=sigmoid: score = 1.068(0.038)\n",
            "> neurons=6, act_fun1=relu, act_fun2=tanh: score = 0.997(0.015)\n",
            "> neurons=6, act_fun1=sigmoid, act_fun2=relu: score = 0.996(0.014)\n",
            "> neurons=6, act_fun1=sigmoid, act_fun2=sigmoid: score = 1.079(0.030)\n",
            "> neurons=6, act_fun1=sigmoid, act_fun2=tanh: score = 1.038(0.001)\n",
            "> neurons=6, act_fun1=tanh, act_fun2=relu: score = 0.971(0.010)\n",
            "> neurons=6, act_fun1=tanh, act_fun2=sigmoid: score = 1.043(0.013)\n",
            "> neurons=6, act_fun1=tanh, act_fun2=tanh: score = 1.021(0.012)\n",
            "-------------------------------------------------------\n",
            "> neurons=7, act_fun1=relu, act_fun2=relu: score = 0.967(0.007)\n",
            "> neurons=7, act_fun1=relu, act_fun2=sigmoid: score = 1.048(0.017)\n",
            "> neurons=7, act_fun1=relu, act_fun2=tanh: score = 0.985(0.008)\n",
            "> neurons=7, act_fun1=sigmoid, act_fun2=relu: score = 0.984(0.013)\n",
            "> neurons=7, act_fun1=sigmoid, act_fun2=sigmoid: score = 1.050(0.006)\n",
            "> neurons=7, act_fun1=sigmoid, act_fun2=tanh: score = 1.024(0.005)\n",
            "> neurons=7, act_fun1=tanh, act_fun2=relu: score = 0.969(0.004)\n",
            "> neurons=7, act_fun1=tanh, act_fun2=sigmoid: score = 1.019(0.006)\n",
            "> neurons=7, act_fun1=tanh, act_fun2=tanh: score = 0.992(0.008)\n",
            "-------------------------------------------------------\n",
            "> neurons=8, act_fun1=relu, act_fun2=relu: score = 0.968(0.022)\n",
            "> neurons=8, act_fun1=relu, act_fun2=sigmoid: score = 1.013(0.007)\n",
            "> neurons=8, act_fun1=relu, act_fun2=tanh: score = 0.983(0.014)\n",
            "> neurons=8, act_fun1=sigmoid, act_fun2=relu: score = 0.974(0.011)\n",
            "> neurons=8, act_fun1=sigmoid, act_fun2=sigmoid: score = 1.036(0.009)\n",
            "> neurons=8, act_fun1=sigmoid, act_fun2=tanh: score = 1.011(0.010)\n",
            "> neurons=8, act_fun1=tanh, act_fun2=relu: score = 0.970(0.015)\n",
            "> neurons=8, act_fun1=tanh, act_fun2=sigmoid: score = 1.009(0.007)\n",
            "> neurons=8, act_fun1=tanh, act_fun2=tanh: score = 0.982(0.008)\n",
            "-------------------------------------------------------\n",
            "> neurons=9, act_fun1=relu, act_fun2=relu: score = 0.959(0.008)\n",
            "> neurons=9, act_fun1=relu, act_fun2=sigmoid: score = 1.006(0.021)\n",
            "> neurons=9, act_fun1=relu, act_fun2=tanh: score = 0.961(0.005)\n",
            "> neurons=9, act_fun1=sigmoid, act_fun2=relu: score = 0.978(0.018)\n",
            "> neurons=9, act_fun1=sigmoid, act_fun2=sigmoid: score = 1.028(0.012)\n",
            "> neurons=9, act_fun1=sigmoid, act_fun2=tanh: score = 0.996(0.013)\n",
            "> neurons=9, act_fun1=tanh, act_fun2=relu: score = 0.957(0.012)\n",
            "> neurons=9, act_fun1=tanh, act_fun2=sigmoid: score = 1.000(0.009)\n",
            "> neurons=9, act_fun1=tanh, act_fun2=tanh: score = 0.970(0.009)\n",
            "-------------------------------------------------------\n",
            "> neurons=10, act_fun1=relu, act_fun2=relu: score = 0.963(0.011)\n",
            "> neurons=10, act_fun1=relu, act_fun2=sigmoid: score = 1.010(0.011)\n",
            "> neurons=10, act_fun1=relu, act_fun2=tanh: score = 0.956(0.004)\n",
            "> neurons=10, act_fun1=sigmoid, act_fun2=relu: score = 0.966(0.009)\n",
            "> neurons=10, act_fun1=sigmoid, act_fun2=sigmoid: score = 1.018(0.006)\n",
            "> neurons=10, act_fun1=sigmoid, act_fun2=tanh: score = 1.001(0.005)\n",
            "> neurons=10, act_fun1=tanh, act_fun2=relu: score = 0.955(0.009)\n",
            "> neurons=10, act_fun1=tanh, act_fun2=sigmoid: score = 0.987(0.015)\n",
            "> neurons=10, act_fun1=tanh, act_fun2=tanh: score = 0.968(0.005)\n",
            "-------------------------------------------------------\n",
            "> neurons=11, act_fun1=relu, act_fun2=relu: score = 0.964(0.025)\n",
            "> neurons=11, act_fun1=relu, act_fun2=sigmoid: score = 0.995(0.015)\n",
            "> neurons=11, act_fun1=relu, act_fun2=tanh: score = 0.953(0.008)\n",
            "> neurons=11, act_fun1=sigmoid, act_fun2=relu: score = 0.966(0.007)\n",
            "> neurons=11, act_fun1=sigmoid, act_fun2=sigmoid: score = 1.014(0.007)\n",
            "> neurons=11, act_fun1=sigmoid, act_fun2=tanh: score = 0.981(0.012)\n",
            "> neurons=11, act_fun1=tanh, act_fun2=relu: score = 0.946(0.001)\n",
            "> neurons=11, act_fun1=tanh, act_fun2=sigmoid: score = 0.980(0.008)\n",
            "> neurons=11, act_fun1=tanh, act_fun2=tanh: score = 0.959(0.004)\n"
          ],
          "name": "stdout"
        }
      ]
    },
    {
      "cell_type": "code",
      "metadata": {
        "id": "specific-relations",
        "outputId": "b7e788e6-1fde-4b61-a4f3-9ec5a5863d10"
      },
      "source": [
        "#find the parameters with the lowest score (mae_mean+mae_std)\n",
        "ans =[min(perform, key=perform.get)]\n",
        "print(ans)"
      ],
      "id": "specific-relations",
      "execution_count": null,
      "outputs": [
        {
          "output_type": "stream",
          "text": [
            "[(11, 'tanh', 'relu')]\n"
          ],
          "name": "stdout"
        }
      ]
    },
    {
      "cell_type": "markdown",
      "metadata": {
        "id": "powerful-pacific"
      },
      "source": [
        "# Final model"
      ],
      "id": "powerful-pacific"
    },
    {
      "cell_type": "code",
      "metadata": {
        "id": "formal-electron"
      },
      "source": [
        "#build the final ann model\n",
        "Y_train_final = final_train['FuelRate'] #unit: gal/h\n",
        "X_train_final = final_train[['speed','acceleration','temperature','humidity','roadGrade']]\n",
        "final_model = Sequential()\n",
        "final_model.add(Dense(ans[0][0],kernel_initializer='normal', input_dim=dim, activation =ans[0][1]))\n",
        "final_model.add(Dense(ans[0][0], kernel_initializer='normal', activation =ans[0][2]))\n",
        "final_model.add(Dense(1,kernel_initializer='normal', activation ='linear'))\n",
        "final_model.compile(loss='mean_absolute_error', optimizer='adam')"
      ],
      "id": "formal-electron",
      "execution_count": null,
      "outputs": []
    },
    {
      "cell_type": "code",
      "metadata": {
        "id": "moral-piano",
        "outputId": "d4aac1d1-55fd-4ef5-f3d3-f876278d7e73"
      },
      "source": [
        "#fit model\n",
        "history = final_model.fit(X_train_final, Y_train_final, epochs=50, \n",
        "                    batch_size=20000, verbose = 0)\n",
        "#performance\n",
        "plt.plot(history.history['loss'], label='train')\n",
        "plt.title('model loss')\n",
        "plt.legend()\n",
        "plt.show()\n",
        "\n",
        "scores = final_model.evaluate(X_test, Y_test, verbose=0)\n",
        "print(\"MAE is\",scores)\n",
        "print(\"final loss is\",history.history['loss'][-1])"
      ],
      "id": "moral-piano",
      "execution_count": null,
      "outputs": [
        {
          "output_type": "display_data",
          "data": {
            "image/png": "[encoded data removed]",
            "text/plain": [
              "<Figure size 432x288 with 1 Axes>"
            ]
          },
          "metadata": {
            "tags": [],
            "needs_background": "light"
          }
        },
        {
          "output_type": "stream",
          "text": [
            "MAE is 0.9268234587855136\n",
            "final loss is 0.9287329640495235\n"
          ],
          "name": "stdout"
        }
      ]
    },
    {
      "cell_type": "code",
      "metadata": {
        "id": "negative-romance"
      },
      "source": [
        "final_model.save('F:/Research/EnergyEstimation/model/diesel_MY2014.model')"
      ],
      "id": "negative-romance",
      "execution_count": null,
      "outputs": []
    },
    {
      "cell_type": "markdown",
      "metadata": {
        "id": "brief-latex"
      },
      "source": [
        "# Prediction-test"
      ],
      "id": "brief-latex"
    },
    {
      "cell_type": "code",
      "metadata": {
        "id": "comfortable-relation"
      },
      "source": [
        "model = keras.models.load_model('F:/Research/EnergyEstimation/model/diesel_MY2014.model')"
      ],
      "id": "comfortable-relation",
      "execution_count": null,
      "outputs": []
    },
    {
      "cell_type": "code",
      "metadata": {
        "id": "mexican-groove"
      },
      "source": [
        "#prdiction \n",
        "Y_test_final = final_test['FuelRate']\n",
        "X_test_final = final_test[['speed','acceleration','temperature','humidity','roadGrade']]\n",
        "pred = model.predict(X_test_final)"
      ],
      "id": "mexican-groove",
      "execution_count": null,
      "outputs": []
    },
    {
      "cell_type": "code",
      "metadata": {
        "id": "empirical-listing"
      },
      "source": [
        "true = Y_test_final.to_numpy()"
      ],
      "id": "empirical-listing",
      "execution_count": null,
      "outputs": []
    },
    {
      "cell_type": "code",
      "metadata": {
        "id": "viral-hamilton",
        "outputId": "5b19dde1-2b2f-4489-edc6-ec29f2e4f82c"
      },
      "source": [
        "#error\n",
        "print('MAE=',mean_absolute_error(Y_test_final, pred))\n",
        "print('MSE=',mean_squared_error(Y_test_final, pred))\n"
      ],
      "id": "viral-hamilton",
      "execution_count": null,
      "outputs": [
        {
          "output_type": "stream",
          "text": [
            "MAE= 0.928624746229672\n",
            "MSE= 3.015283175135569\n"
          ],
          "name": "stdout"
        }
      ]
    },
    {
      "cell_type": "code",
      "metadata": {
        "id": "generic-implement"
      },
      "source": [
        ""
      ],
      "id": "generic-implement",
      "execution_count": null,
      "outputs": []
    }
  ]
}