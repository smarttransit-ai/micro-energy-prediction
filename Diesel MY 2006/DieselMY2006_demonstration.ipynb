{
 "cells": [
  {
   "cell_type": "code",
   "execution_count": 1,
   "id": "stopped-colonial",
   "metadata": {
    "scrolled": true
   },
   "outputs": [
    {
     "name": "stderr",
     "output_type": "stream",
     "text": [
      "Using TensorFlow backend.\n",
      "C:\\ProgramData\\Anaconda3\\lib\\site-packages\\tensorflow\\python\\framework\\dtypes.py:516: FutureWarning: Passing (type, 1) or '1type' as a synonym of type is deprecated; in a future version of numpy, it will be understood as (type, (1,)) / '(1,)type'.\n",
      "  _np_qint8 = np.dtype([(\"qint8\", np.int8, 1)])\n",
      "C:\\ProgramData\\Anaconda3\\lib\\site-packages\\tensorflow\\python\\framework\\dtypes.py:517: FutureWarning: Passing (type, 1) or '1type' as a synonym of type is deprecated; in a future version of numpy, it will be understood as (type, (1,)) / '(1,)type'.\n",
      "  _np_quint8 = np.dtype([(\"quint8\", np.uint8, 1)])\n",
      "C:\\ProgramData\\Anaconda3\\lib\\site-packages\\tensorflow\\python\\framework\\dtypes.py:518: FutureWarning: Passing (type, 1) or '1type' as a synonym of type is deprecated; in a future version of numpy, it will be understood as (type, (1,)) / '(1,)type'.\n",
      "  _np_qint16 = np.dtype([(\"qint16\", np.int16, 1)])\n",
      "C:\\ProgramData\\Anaconda3\\lib\\site-packages\\tensorflow\\python\\framework\\dtypes.py:519: FutureWarning: Passing (type, 1) or '1type' as a synonym of type is deprecated; in a future version of numpy, it will be understood as (type, (1,)) / '(1,)type'.\n",
      "  _np_quint16 = np.dtype([(\"quint16\", np.uint16, 1)])\n",
      "C:\\ProgramData\\Anaconda3\\lib\\site-packages\\tensorflow\\python\\framework\\dtypes.py:520: FutureWarning: Passing (type, 1) or '1type' as a synonym of type is deprecated; in a future version of numpy, it will be understood as (type, (1,)) / '(1,)type'.\n",
      "  _np_qint32 = np.dtype([(\"qint32\", np.int32, 1)])\n",
      "C:\\ProgramData\\Anaconda3\\lib\\site-packages\\tensorflow\\python\\framework\\dtypes.py:525: FutureWarning: Passing (type, 1) or '1type' as a synonym of type is deprecated; in a future version of numpy, it will be understood as (type, (1,)) / '(1,)type'.\n",
      "  np_resource = np.dtype([(\"resource\", np.ubyte, 1)])\n",
      "C:\\ProgramData\\Anaconda3\\lib\\site-packages\\tensorboard\\compat\\tensorflow_stub\\dtypes.py:541: FutureWarning: Passing (type, 1) or '1type' as a synonym of type is deprecated; in a future version of numpy, it will be understood as (type, (1,)) / '(1,)type'.\n",
      "  _np_qint8 = np.dtype([(\"qint8\", np.int8, 1)])\n",
      "C:\\ProgramData\\Anaconda3\\lib\\site-packages\\tensorboard\\compat\\tensorflow_stub\\dtypes.py:542: FutureWarning: Passing (type, 1) or '1type' as a synonym of type is deprecated; in a future version of numpy, it will be understood as (type, (1,)) / '(1,)type'.\n",
      "  _np_quint8 = np.dtype([(\"quint8\", np.uint8, 1)])\n",
      "C:\\ProgramData\\Anaconda3\\lib\\site-packages\\tensorboard\\compat\\tensorflow_stub\\dtypes.py:543: FutureWarning: Passing (type, 1) or '1type' as a synonym of type is deprecated; in a future version of numpy, it will be understood as (type, (1,)) / '(1,)type'.\n",
      "  _np_qint16 = np.dtype([(\"qint16\", np.int16, 1)])\n",
      "C:\\ProgramData\\Anaconda3\\lib\\site-packages\\tensorboard\\compat\\tensorflow_stub\\dtypes.py:544: FutureWarning: Passing (type, 1) or '1type' as a synonym of type is deprecated; in a future version of numpy, it will be understood as (type, (1,)) / '(1,)type'.\n",
      "  _np_quint16 = np.dtype([(\"quint16\", np.uint16, 1)])\n",
      "C:\\ProgramData\\Anaconda3\\lib\\site-packages\\tensorboard\\compat\\tensorflow_stub\\dtypes.py:545: FutureWarning: Passing (type, 1) or '1type' as a synonym of type is deprecated; in a future version of numpy, it will be understood as (type, (1,)) / '(1,)type'.\n",
      "  _np_qint32 = np.dtype([(\"qint32\", np.int32, 1)])\n",
      "C:\\ProgramData\\Anaconda3\\lib\\site-packages\\tensorboard\\compat\\tensorflow_stub\\dtypes.py:550: FutureWarning: Passing (type, 1) or '1type' as a synonym of type is deprecated; in a future version of numpy, it will be understood as (type, (1,)) / '(1,)type'.\n",
      "  np_resource = np.dtype([(\"resource\", np.ubyte, 1)])\n"
     ]
    }
   ],
   "source": [
    "import pandas as pd\n",
    "import keras"
   ]
  },
  {
   "cell_type": "code",
   "execution_count": 2,
   "id": "confirmed-fetish",
   "metadata": {},
   "outputs": [],
   "source": [
    "class_folder='F:/Research/EnergyEstimation/Diesel MY 2006'"
   ]
  },
  {
   "cell_type": "code",
   "execution_count": 3,
   "id": "retained-mitchell",
   "metadata": {},
   "outputs": [
    {
     "name": "stdout",
     "output_type": "stream",
     "text": [
      "WARNING:tensorflow:From C:\\ProgramData\\Anaconda3\\lib\\site-packages\\keras\\backend\\tensorflow_backend.py:422: The name tf.global_variables is deprecated. Please use tf.compat.v1.global_variables instead.\n",
      "\n"
     ]
    }
   ],
   "source": [
    "#load model for this vehicle class\n",
    "model = keras.models.load_model(f'{class_folder}/diesel_MY2006.model')"
   ]
  },
  {
   "cell_type": "markdown",
   "id": "major-transparency",
   "metadata": {},
   "source": [
    "# Spring peak hour "
   ]
  },
  {
   "cell_type": "code",
   "execution_count": 4,
   "id": "thorough-constitutional",
   "metadata": {},
   "outputs": [],
   "source": [
    "#read trajectory data sample\n",
    "spr_peak = pd.read_csv(f'{class_folder}/DrivingPatterns/dieselMY2006_Spring_peak.csv')"
   ]
  },
  {
   "cell_type": "code",
   "execution_count": 5,
   "id": "exposed-birth",
   "metadata": {},
   "outputs": [],
   "source": [
    "#predict \n",
    "pred = model.predict(spr_peak)"
   ]
  },
  {
   "cell_type": "markdown",
   "id": "published-framing",
   "metadata": {},
   "source": [
    "# Spring off peak hour"
   ]
  },
  {
   "cell_type": "code",
   "execution_count": 6,
   "id": "mysterious-pizza",
   "metadata": {},
   "outputs": [],
   "source": [
    "#read trajectory data sample\n",
    "spr_offpeak = pd.read_csv(f'{class_folder}/DrivingPatterns/dieselMY2006_Spring_offpeak.csv')"
   ]
  },
  {
   "cell_type": "code",
   "execution_count": 7,
   "id": "endangered-calibration",
   "metadata": {},
   "outputs": [],
   "source": [
    "#predict \n",
    "pred = model.predict(spr_offpeak)"
   ]
  },
  {
   "cell_type": "markdown",
   "id": "broad-turning",
   "metadata": {},
   "source": [
    "# Summer peak hour"
   ]
  },
  {
   "cell_type": "code",
   "execution_count": 8,
   "id": "pressing-robinson",
   "metadata": {},
   "outputs": [],
   "source": [
    "#read trajectory data sample\n",
    "sum_peak = pd.read_csv(f'{class_folder}/DrivingPatterns/dieselMY2006_Summer_peak.csv')"
   ]
  },
  {
   "cell_type": "code",
   "execution_count": 9,
   "id": "regulation-closer",
   "metadata": {},
   "outputs": [],
   "source": [
    "#predict \n",
    "pred = model.predict(sum_peak)"
   ]
  },
  {
   "cell_type": "markdown",
   "id": "powerful-richards",
   "metadata": {},
   "source": [
    "# Summer off peak hour"
   ]
  },
  {
   "cell_type": "code",
   "execution_count": 10,
   "id": "korean-capitol",
   "metadata": {},
   "outputs": [],
   "source": [
    "#read trajectory data sample\n",
    "sum_offpeak = pd.read_csv(f'{class_folder}/DrivingPatterns/dieselMY2006_Summer_offpeak.csv')"
   ]
  },
  {
   "cell_type": "code",
   "execution_count": 11,
   "id": "respiratory-relaxation",
   "metadata": {},
   "outputs": [],
   "source": [
    "#predict \n",
    "pred = model.predict(sum_offpeak)"
   ]
  },
  {
   "cell_type": "markdown",
   "id": "catholic-multimedia",
   "metadata": {},
   "source": [
    "# Fall peak hour"
   ]
  },
  {
   "cell_type": "code",
   "execution_count": 12,
   "id": "plain-guyana",
   "metadata": {},
   "outputs": [],
   "source": [
    "#read trajectory data sample\n",
    "fall_peak = pd.read_csv(f'{class_folder}/DrivingPatterns/dieselMY2006_Fall_peak.csv')"
   ]
  },
  {
   "cell_type": "code",
   "execution_count": 13,
   "id": "powerful-mississippi",
   "metadata": {},
   "outputs": [],
   "source": [
    "#predict \n",
    "pred = model.predict(fall_peak)"
   ]
  },
  {
   "cell_type": "markdown",
   "id": "quiet-moses",
   "metadata": {},
   "source": [
    "# Fall off peak hour"
   ]
  },
  {
   "cell_type": "code",
   "execution_count": 14,
   "id": "intellectual-platinum",
   "metadata": {},
   "outputs": [],
   "source": [
    "#read trajectory data sample\n",
    "fall_offpeak = pd.read_csv(f'{class_folder}/DrivingPatterns/dieselMY2006_Fall_offpeak.csv')"
   ]
  },
  {
   "cell_type": "code",
   "execution_count": 15,
   "id": "promising-caution",
   "metadata": {},
   "outputs": [],
   "source": [
    "#predict \n",
    "pred = model.predict(fall_offpeak)"
   ]
  },
  {
   "cell_type": "markdown",
   "id": "athletic-vinyl",
   "metadata": {},
   "source": [
    "# Winter peak hour"
   ]
  },
  {
   "cell_type": "code",
   "execution_count": 16,
   "id": "presidential-interpretation",
   "metadata": {},
   "outputs": [],
   "source": [
    "#read trajectory data sample\n",
    "win_peak = pd.read_csv(f'{class_folder}/DrivingPatterns/dieselMY2006_Winter_peak.csv')"
   ]
  },
  {
   "cell_type": "code",
   "execution_count": 17,
   "id": "provincial-address",
   "metadata": {},
   "outputs": [],
   "source": [
    "#predict \n",
    "pred = model.predict(win_peak)"
   ]
  },
  {
   "cell_type": "markdown",
   "id": "authorized-division",
   "metadata": {},
   "source": [
    "# Winter off peak hour"
   ]
  },
  {
   "cell_type": "code",
   "execution_count": 18,
   "id": "atmospheric-wholesale",
   "metadata": {},
   "outputs": [],
   "source": [
    "#read trajectory data sample\n",
    "win_offpeak = pd.read_csv(f'{class_folder}/DrivingPatterns/dieselMY2006_Winter_offpeak.csv')"
   ]
  },
  {
   "cell_type": "code",
   "execution_count": 19,
   "id": "furnished-moldova",
   "metadata": {},
   "outputs": [],
   "source": [
    "#predict \n",
    "pred = model.predict(win_offpeak)"
   ]
  },
  {
   "cell_type": "code",
   "execution_count": null,
   "id": "lyric-myanmar",
   "metadata": {},
   "outputs": [],
   "source": []
  }
 ],
 "metadata": {
  "kernelspec": {
   "display_name": "Python 3",
   "language": "python",
   "name": "python3"
  },
  "language_info": {
   "codemirror_mode": {
    "name": "ipython",
    "version": 3
   },
   "file_extension": ".py",
   "mimetype": "text/x-python",
   "name": "python",
   "nbconvert_exporter": "python",
   "pygments_lexer": "ipython3",
   "version": "3.7.3"
  }
 },
 "nbformat": 4,
 "nbformat_minor": 5
}
